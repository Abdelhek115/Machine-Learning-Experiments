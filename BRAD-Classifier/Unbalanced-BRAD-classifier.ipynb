{
 "cells": [
  {
   "cell_type": "markdown",
   "metadata": {},
   "source": [
    "# Book reviews classification using Arabic ULMFIT model\n",
    "### You can get this dataset from https://github.com/elnagara/BRAD-Arabic-Dataset .\n",
    "This dataset contains 510,600 book reviews in Arabic language. The reviews were collected from GoodReads.com website during June/July 2016. The reviews are expressed mainly in Modern Standard Arabic but there are reviews in dialectal Arabic as well.\n",
    "##### *Citation*:\n",
    "> Elnagar A. and Einea O. 'BRAD 1.0: Book reviews in Arabic dataset'. 2016 IEEE/ACS 13th International Conference of Computer Systems and Applications (AICCSA), pp. 1-8, Nov 2016. DOI: 10.1109/AICCSA.2016.7945800."
   ]
  },
  {
   "cell_type": "markdown",
   "metadata": {},
   "source": [
    "For more information about ULMFIT see [Paper](https://arxiv.org/abs/1801.06146) & [Blog post](http://nlp.fast.ai/)."
   ]
  },
  {
   "cell_type": "markdown",
   "metadata": {},
   "source": [
    "### Using our pretrained Arabic ULMFIT language model we do the following:\n",
    "1- Preprocess our dataset and get it ready for use in the coming steps by creating a language model databunch & classifer databunch.\n",
    "\n",
    "2- Load our language model with pretrained weights then fine-tune it to our dataset.\n",
    "\n",
    "3- Create a classifier on top of the encoder of the language model."
   ]
  },
  {
   "cell_type": "code",
   "execution_count": 1,
   "metadata": {},
   "outputs": [],
   "source": [
    "%matplotlib inline\n",
    "%reload_ext autoreload\n",
    "%autoreload 2"
   ]
  },
  {
   "cell_type": "code",
   "execution_count": 4,
   "metadata": {},
   "outputs": [],
   "source": [
    "from fastai.text import *\n",
    "import path\n",
    "import copy"
   ]
  },
  {
   "cell_type": "code",
   "execution_count": 3,
   "metadata": {},
   "outputs": [
    {
     "data": {
      "text/plain": [
       "'1.0.51.dev0'"
      ]
     },
     "execution_count": 3,
     "metadata": {},
     "output_type": "execute_result"
    }
   ],
   "source": [
    "#Latest dev version of fastai in order to get some fixes for QRNNs\n",
    "import fastai; fastai.__version__"
   ]
  },
  {
   "cell_type": "code",
   "execution_count": 5,
   "metadata": {},
   "outputs": [],
   "source": [
    "data_path = Path('data')\n",
    "lm_path = Path('.')"
   ]
  },
  {
   "cell_type": "markdown",
   "metadata": {},
   "source": [
    "### 1- Pre-processing our Dataset :"
   ]
  },
  {
   "cell_type": "markdown",
   "metadata": {},
   "source": [
    "**This notebook uses the unbalanced reviews file (9% neg, 79% pos, 12% ntl),  you can find the notebook that uses the balanced reviews in the same github repo.**"
   ]
  },
  {
   "cell_type": "code",
   "execution_count": 9,
   "metadata": {},
   "outputs": [],
   "source": [
    "unbalanced_df = pd.read_csv(data_path/'unbalanced_reviews.tsv',delimiter='\\t',encoding='utf-8'\n",
    "                            ,names=['rating','review id','user id','book id','review'])"
   ]
  },
  {
   "cell_type": "code",
   "execution_count": 10,
   "metadata": {},
   "outputs": [
    {
     "data": {
      "text/html": [
       "<div>\n",
       "<style scoped>\n",
       "    .dataframe tbody tr th:only-of-type {\n",
       "        vertical-align: middle;\n",
       "    }\n",
       "\n",
       "    .dataframe tbody tr th {\n",
       "        vertical-align: top;\n",
       "    }\n",
       "\n",
       "    .dataframe thead th {\n",
       "        text-align: right;\n",
       "    }\n",
       "</style>\n",
       "<table border=\"1\" class=\"dataframe\">\n",
       "  <thead>\n",
       "    <tr style=\"text-align: right;\">\n",
       "      <th></th>\n",
       "      <th>rating</th>\n",
       "      <th>review id</th>\n",
       "      <th>user id</th>\n",
       "      <th>book id</th>\n",
       "      <th>review</th>\n",
       "    </tr>\n",
       "  </thead>\n",
       "  <tbody>\n",
       "    <tr>\n",
       "      <th>0</th>\n",
       "      <td>4</td>\n",
       "      <td>1682581870</td>\n",
       "      <td>57098525</td>\n",
       "      <td>13637412</td>\n",
       "      <td>صراع الجذور والانتماء، عقلة ساق الخيزان توائم ...</td>\n",
       "    </tr>\n",
       "    <tr>\n",
       "      <th>1</th>\n",
       "      <td>5</td>\n",
       "      <td>1682385404</td>\n",
       "      <td>56693085</td>\n",
       "      <td>13637412</td>\n",
       "      <td>كتاب رائع. اعتقد ان الروايه كلها تلخصت بجمله و...</td>\n",
       "    </tr>\n",
       "    <tr>\n",
       "      <th>2</th>\n",
       "      <td>4</td>\n",
       "      <td>1682039752</td>\n",
       "      <td>30836455</td>\n",
       "      <td>13637412</td>\n",
       "      <td>رواية تلامس الروح بعمقها، فخورة اني اخيرا لقيت...</td>\n",
       "    </tr>\n",
       "    <tr>\n",
       "      <th>3</th>\n",
       "      <td>5</td>\n",
       "      <td>1681553886</td>\n",
       "      <td>6680940</td>\n",
       "      <td>13637412</td>\n",
       "      <td>رواية محكمة بكل اختصار. وكان الجزء المفضل بالن...</td>\n",
       "    </tr>\n",
       "    <tr>\n",
       "      <th>4</th>\n",
       "      <td>3</td>\n",
       "      <td>1681248984</td>\n",
       "      <td>19011044</td>\n",
       "      <td>13637412</td>\n",
       "      <td>هذا الكتاب يحزن مرا، ظلم واضطهاد عيسى بلا ذنب ...</td>\n",
       "    </tr>\n",
       "  </tbody>\n",
       "</table>\n",
       "</div>"
      ],
      "text/plain": [
       "   rating   review id   user id   book id  \\\n",
       "0       4  1682581870  57098525  13637412   \n",
       "1       5  1682385404  56693085  13637412   \n",
       "2       4  1682039752  30836455  13637412   \n",
       "3       5  1681553886   6680940  13637412   \n",
       "4       3  1681248984  19011044  13637412   \n",
       "\n",
       "                                              review  \n",
       "0  صراع الجذور والانتماء، عقلة ساق الخيزان توائم ...  \n",
       "1  كتاب رائع. اعتقد ان الروايه كلها تلخصت بجمله و...  \n",
       "2  رواية تلامس الروح بعمقها، فخورة اني اخيرا لقيت...  \n",
       "3  رواية محكمة بكل اختصار. وكان الجزء المفضل بالن...  \n",
       "4  هذا الكتاب يحزن مرا، ظلم واضطهاد عيسى بلا ذنب ...  "
      ]
     },
     "execution_count": 10,
     "metadata": {},
     "output_type": "execute_result"
    }
   ],
   "source": [
    "unbalanced_df.head()"
   ]
  },
  {
   "cell_type": "code",
   "execution_count": 11,
   "metadata": {},
   "outputs": [
    {
     "data": {
      "text/plain": [
       "(510599, 5)"
      ]
     },
     "execution_count": 11,
     "metadata": {},
     "output_type": "execute_result"
    }
   ],
   "source": [
    "unbalanced_df.shape"
   ]
  },
  {
   "cell_type": "markdown",
   "metadata": {},
   "source": [
    "*Create A held-out test dataset using 10% of our full dataset. and drop it from the full dataset.*"
   ]
  },
  {
   "cell_type": "code",
   "execution_count": 12,
   "metadata": {},
   "outputs": [],
   "source": [
    "test_df = unbalanced_df.sample(frac = .1 ,replace=False,random_state = 42)"
   ]
  },
  {
   "cell_type": "code",
   "execution_count": 13,
   "metadata": {},
   "outputs": [
    {
     "data": {
      "text/plain": [
       "(459539, 5)"
      ]
     },
     "execution_count": 13,
     "metadata": {},
     "output_type": "execute_result"
    }
   ],
   "source": [
    "unbalanced_df = unbalanced_df.drop(test_df.index)\n",
    "unbalanced_df.shape"
   ]
  },
  {
   "cell_type": "code",
   "execution_count": 14,
   "metadata": {},
   "outputs": [],
   "source": [
    "unbalanced_df.to_csv(data_path/'unbalanced_reviews_train.csv',index=False)\n",
    "test_df.to_csv(data_path/'unbalanced_reviews_test.csv',index=False)"
   ]
  },
  {
   "cell_type": "markdown",
   "metadata": {},
   "source": [
    "*Create 2 csv files containing our train/valid and our test datasets.*"
   ]
  },
  {
   "cell_type": "code",
   "execution_count": 7,
   "metadata": {},
   "outputs": [],
   "source": [
    "unbalanced_train_df = pd.read_csv(data_path/'unbalanced_reviews_train.csv')\n",
    "unbalanced_test_df = pd.read_csv(data_path/'unbalanced_reviews_test.csv')"
   ]
  },
  {
   "cell_type": "markdown",
   "metadata": {},
   "source": [
    "* Create a Language model databunch that does all the necessary preprocessing like tokenization and numericalization.\n",
    "\n",
    "* All the text in the dataset is concatenated and the labels are ignored. Instead, the target is the next word in the sentence.\n",
    "\n",
    "* We also create a validation set that is 10% of our full dataset (80% train 10% valid 10% test)."
   ]
  },
  {
   "cell_type": "code",
   "execution_count": 17,
   "metadata": {},
   "outputs": [],
   "source": [
    "reviews_lm_data = (TextList.from_df(unbalanced_train_df,cols=['review'])\n",
    "                   .split_by_rand_pct(.1)\n",
    "                   .label_for_lm()\n",
    "                   .databunch(bs=64))"
   ]
  },
  {
   "cell_type": "code",
   "execution_count": 18,
   "metadata": {},
   "outputs": [
    {
     "data": {
      "text/html": [
       "<table border=\"1\" class=\"dataframe\">\n",
       "  <thead>\n",
       "    <tr style=\"text-align: right;\">\n",
       "      <th>idx</th>\n",
       "      <th>text</th>\n",
       "    </tr>\n",
       "  </thead>\n",
       "  <tbody>\n",
       "    <tr>\n",
       "      <td>0</td>\n",
       "      <td>الاحداث وتنسى نفسك فيها ، عمل رائع . xxbos رواية محكمة بكل اختصار . وكان الجزء المفضل بالنسبة لي هو وصف الكاتب للحياة عيسى في الفلبين . على الرغم من أن الرواية تصف واقع الكويت ( بكل واقعية وبدون مبالغة ) الا ان القاريء الخليجي بصفة عامه يستطيع أن يجد نفسه ومجتمعه بين سطورها . خلق الكاتب xxunk متناقضتين ( يوسف xxunk xxunk والوجه الغير كويتي ) و ( غسان</td>\n",
       "    </tr>\n",
       "    <tr>\n",
       "      <td>1</td>\n",
       "      <td>لما قرأتها قولت اية دا ! ! ! . احمد مراد الي كاتبها ! ! . الرواية فيها غموض جامد و توهان . تاني حاجة .. ان موضوع الرواية . لما ظهر حقيقة الموضوع ف النهاية يعني . دا بجد قفلني جدا xxbos العلامة الكاملة بضمير مرتاح . احمد مراد ببساطة هو الروائي الابرز بين كُتاب الجيل الحالي قلم غير xxunk في اختيار مواضيع الروايات ... سهولة في السرد ولغة</td>\n",
       "    </tr>\n",
       "    <tr>\n",
       "      <td>2</td>\n",
       "      <td>بها xxunk في بادئ الأمر ، ولا نغفر لها سقوطها الغريب لاحقا وضعف شخصيتها لمجرد سماع صوت xxunk خلف xxunk هاتف ، وهي البطلة صاحبة المبادئ والقيم والعائلة المحافظة . ما xxunk حقا في الرواية حبكتها والأحداث التي جمعت البطلين والتي تجعلنا وكأننا xxunk واحدا من أفلام الثمانينيات العربية . منذ منتصف الرواية فقدت شغف البداية ، وتوقعت النهاية ، وفقدت ما هو أعظم من ذلك : عنصرا المفاجأة ورسالة</td>\n",
       "    </tr>\n",
       "    <tr>\n",
       "      <td>3</td>\n",
       "      <td>! ! . في النهاية ، راوية عزازيل استحقت بجدارة الجائزة العالمية للرواية العربية .. xxunk xxunk لقراءتها ؛ ربطة xxunk الأدب في الرواية xxunk جداً. شكراً جزيلاً ليوسف زيدان على هذا العمل xxunk الذي xxunk نظرتي للرواية العربية . xxbos فى حاجة مش فاهماها فى الكتاب دا : xxup d. هو قصته حقيقية ؟ يعنى كان فيه ألواح مدفونة فى صندوق و الرواية دى ترجمة حرفية ليها ؟ و</td>\n",
       "    </tr>\n",
       "    <tr>\n",
       "      <td>4</td>\n",
       "      <td>شهامة الفتى من شبرا الذي يحمي اخته ويظهر شيم حماية الغريب والتضحية بالذات xxunk ( برغم كون الغرباء من سكان يوتوبيا الاعداء وفي المقابل كان رد الجميل من هؤلاء هو قتله ) ، وفي النهاية كانت ثورة الجياع لا مفر منها xxbos أجلت الــ review لهذه الرواية .. ربما لأنني كنت على يقين أنني سأعود إليها و أعيد قراءتها يوما ما .. و قد حدث : xxup d. طبعا ..</td>\n",
       "    </tr>\n",
       "  </tbody>\n",
       "</table>"
      ],
      "text/plain": [
       "<IPython.core.display.HTML object>"
      ]
     },
     "metadata": {},
     "output_type": "display_data"
    }
   ],
   "source": [
    "reviews_lm_data.show_batch()"
   ]
  },
  {
   "cell_type": "markdown",
   "metadata": {},
   "source": [
    "*Save our databunch so we can load it instantly later if we want.*"
   ]
  },
  {
   "cell_type": "code",
   "execution_count": 19,
   "metadata": {},
   "outputs": [],
   "source": [
    "reviews_lm_data.save('unbalanced_reviews_lm')"
   ]
  },
  {
   "cell_type": "code",
   "execution_count": 20,
   "metadata": {},
   "outputs": [],
   "source": [
    "reviews_lm_data = load_data(lm_path,'unbalanced_reviews_lm')"
   ]
  },
  {
   "cell_type": "markdown",
   "metadata": {},
   "source": [
    "* Create a classification databunch that does all the necessary preprocessing like tokenization and numericalization.\n",
    "* We map the rating to labels ('pos', 'neg' or 'ntl').\n",
    "* We also pass the vocabulary (mapping from ids to words) that we want to use to ensure that our classification databunch will use the same dictionary as our language model databunch."
   ]
  },
  {
   "cell_type": "code",
   "execution_count": 21,
   "metadata": {},
   "outputs": [],
   "source": [
    "label_for_reviews = lambda x: 'neg' if(x[1] < 3) else ('pos' if x[1] > 3 else 'ntl')"
   ]
  },
  {
   "cell_type": "code",
   "execution_count": 22,
   "metadata": {},
   "outputs": [],
   "source": [
    "reviews_cls_data = (TextList.from_df(unbalanced_train_df,cols=['review','rating'],vocab=reviews_lm_data.train_ds.vocab)\n",
    "                   .split_by_rand_pct(.1)\n",
    "                   .label_from_func(label_for_reviews)\n",
    "                   .databunch(bs=64))"
   ]
  },
  {
   "cell_type": "code",
   "execution_count": 23,
   "metadata": {},
   "outputs": [
    {
     "data": {
      "text/html": [
       "<table border=\"1\" class=\"dataframe\">\n",
       "  <thead>\n",
       "    <tr style=\"text-align: right;\">\n",
       "      <th>text</th>\n",
       "      <th>target</th>\n",
       "    </tr>\n",
       "  </thead>\n",
       "  <tbody>\n",
       "    <tr>\n",
       "      <td>xxbos xxrep 6 ? xxrep 5 ? xxrep 4 ? ? ? xxrep 5 ? xxrep 5 ? xxrep 6 ? ? ? ? xxrep 6 ? . xxrep 6 ? ? ? ? xxrep 5 ? xxrep 5 ? xxrep 7 ? ? ? xxrep 6 ? xxrep 6 ? ، xxrep 8 ? xxrep 9 ? xxrep 7 ? xxrep 4 ? xxrep 6 ? ، xxrep 4</td>\n",
       "      <td>pos</td>\n",
       "    </tr>\n",
       "    <tr>\n",
       "      <td>xxbos من موسى . .. .. لمحمد . كان من الضروري xxunk سى أن يجد بني إسرائيل عبيدا في مصر , و أن xxunk المصريون و ذلك حتى يكونوا مستعدين للسير خلفه للتخلص من العبودية , . و كان من الضروري أيضا أن يجد xxunk أن الفرس xxunk على إمبراطورية xxunk , و أن يكون xxunk ضعفاء و xxunk بسبب طول فترة السلم , . و ما كان xxunk أن</td>\n",
       "      <td>pos</td>\n",
       "    </tr>\n",
       "    <tr>\n",
       "      <td>xxbos والعنوان الفرعي : . ( يوميات طالب في بلد المتناقضات ) . ، وهذه المتناقضات هي لواء الإسلام الذي يرفرف xxunk إلى جنب مع لواء العلمانية في رقعة واحدة من الأرض تسمى تركيا ! ، ولكن كاتب هذه اليوميات ( التي xxunk سريعًا ) على يقين من إن الفتح الإسلامي الثاني xxunk قادم بإذن الله قريب ، إن لم يكن في المستقبل القريب فليكن في آخر الزمان كما وعد</td>\n",
       "      <td>ntl</td>\n",
       "    </tr>\n",
       "    <tr>\n",
       "      <td>xxbos بدأت xxunk و أنا أنظر بخوف و وجل إلى ذلك الكتاب الذى xxunk xxunk و انا استسلمت فى غير xxunk إلى xxunk كمن فقد عقله ثم xxunk توحدت روحى مع ذلك الكتاب , توقعت الأسوأ من شكسبير و أن أتوه فى مقدرته اللغوية الفائقة .. بدايةً و قبل xxunk فى ذلك البستان البديع الذى صنع شكسبير من خلال شخصياته , أود أن xxunk على لغة ذلك xxunk , الرائع</td>\n",
       "      <td>pos</td>\n",
       "    </tr>\n",
       "    <tr>\n",
       "      <td>xxbos يسعى كتاب ( مَنْ xxunk الذِي xxunk xxunk ؟ : أخطاء xxunk xxunk xxunk ) للكاتبة \" حياة الياقوت \" إلى لفت انتباهنا لبعض الأخطاء اللغوية التي xxunk عن نسيان أو جهل وأحياناً بسبب عدم xxunk ، وهي الأخطاء التي xxunk في حديثنا اليومي xxunk الطريق وأسماء المنتجات وحتى xxunk .. كما يشرح الكتاب بطريقة مبسطة xxunk علامات الترقيم .. و منه بعض هذه النصوص : . أخطاء إملائية</td>\n",
       "      <td>pos</td>\n",
       "    </tr>\n",
       "  </tbody>\n",
       "</table>"
      ],
      "text/plain": [
       "<IPython.core.display.HTML object>"
      ]
     },
     "metadata": {},
     "output_type": "display_data"
    }
   ],
   "source": [
    "reviews_cls_data.show_batch()"
   ]
  },
  {
   "cell_type": "code",
   "execution_count": 24,
   "metadata": {},
   "outputs": [],
   "source": [
    "reviews_cls_data.save('unbalanced_reviews_cls')"
   ]
  },
  {
   "cell_type": "code",
   "execution_count": 25,
   "metadata": {},
   "outputs": [],
   "source": [
    "reviews_cls_data = load_data(lm_path,'unbalanced_reviews_cls')"
   ]
  },
  {
   "cell_type": "markdown",
   "metadata": {},
   "source": [
    "## 2- Fine-tune our LM to our Dataset:"
   ]
  },
  {
   "cell_type": "code",
   "execution_count": 26,
   "metadata": {},
   "outputs": [],
   "source": [
    "pretrained_lm_fname = 'new_lm'\n",
    "pretrained_itos_fname = 'itos'"
   ]
  },
  {
   "cell_type": "markdown",
   "metadata": {},
   "source": [
    "* We will create a uni-directional [QRNN] (https://arxiv.org/abs/1611.01576) that will load our pre-trained language model weights stored in `new_lm.pth` and also load  `itos.pkl`  which contains our id to token mapping.\n",
    "* We also pass it our language model databunch which we will fine-tune our language model to."
   ]
  },
  {
   "cell_type": "code",
   "execution_count": 28,
   "metadata": {},
   "outputs": [
    {
     "data": {
      "text/plain": [
       "{'emb_sz': 400,\n",
       " 'n_hid': 1550,\n",
       " 'n_layers': 3,\n",
       " 'pad_token': 1,\n",
       " 'qrnn': True,\n",
       " 'bidir': False,\n",
       " 'output_p': 0.1,\n",
       " 'hidden_p': 0.15,\n",
       " 'input_p': 0.25,\n",
       " 'embed_p': 0.02,\n",
       " 'weight_p': 0.2,\n",
       " 'tie_weights': True,\n",
       " 'out_bias': True}"
      ]
     },
     "execution_count": 28,
     "metadata": {},
     "output_type": "execute_result"
    }
   ],
   "source": [
    "emb_sz:int = 400\n",
    "nh: int = 1550\n",
    "nl: int = 3\n",
    "\n",
    "qrnn_config = copy.deepcopy(awd_lstm_lm_config)\n",
    "dps = dict(output_p=0.25, hidden_p=0.1, input_p=0.2, embed_p=0.02, weight_p=0.15)\n",
    "qrnn_config.update({'emb_sz':emb_sz, 'n_hid':nh, 'n_layers':nl, 'pad_token':1, 'qrnn':True})\n",
    "qrnn_config"
   ]
  },
  {
   "cell_type": "code",
   "execution_count": 29,
   "metadata": {},
   "outputs": [],
   "source": [
    "lm_learner = language_model_learner(reviews_lm_data,AWD_LSTM,pretrained=False,config=qrnn_config, model_dir=lm_path,drop_mult=.3,pretrained_fnames=(pretrained_lm_fname,pretrained_itos_fname))"
   ]
  },
  {
   "cell_type": "code",
   "execution_count": 30,
   "metadata": {},
   "outputs": [
    {
     "data": {
      "text/html": [],
      "text/plain": [
       "<IPython.core.display.HTML object>"
      ]
     },
     "metadata": {},
     "output_type": "display_data"
    },
    {
     "name": "stdout",
     "output_type": "stream",
     "text": [
      "LR Finder is complete, type {learner_name}.recorder.plot() to see the graph.\n"
     ]
    }
   ],
   "source": [
    "lm_learner.lr_find(start_lr = slice(10e-7,10e-5),end_lr=slice(0.1,10))"
   ]
  },
  {
   "cell_type": "code",
   "execution_count": 31,
   "metadata": {},
   "outputs": [
    {
     "data": {
      "image/png": "[encoded data removed]",
      "text/plain": [
       "<Figure size 432x288 with 1 Axes>"
      ]
     },
     "metadata": {
      "needs_background": "light"
     },
     "output_type": "display_data"
    }
   ],
   "source": [
    "lm_learner.recorder.plot(skip_end=10)"
   ]
  },
  {
   "cell_type": "code",
   "execution_count": 32,
   "metadata": {},
   "outputs": [],
   "source": [
    "lm_learner.metrics = [accuracy,Perplexity()]"
   ]
  },
  {
   "cell_type": "markdown",
   "metadata": {},
   "source": [
    "*We train our model starting from the last layer then unfreezing the model and training the entire network*"
   ]
  },
  {
   "cell_type": "code",
   "execution_count": 33,
   "metadata": {},
   "outputs": [
    {
     "data": {
      "text/html": [
       "Total time: 23:11 <p><table style='width:450px; margin-bottom:10px'>\n",
       "  <tr>\n",
       "    <th>epoch</th>\n",
       "    <th>train_loss</th>\n",
       "    <th>valid_loss</th>\n",
       "    <th>accuracy</th>\n",
       "    <th>perplexity</th>\n",
       "    <th>time</th>\n",
       "  </tr>\n",
       "  <tr>\n",
       "    <th>0</th>\n",
       "    <th>6.725603</th>\n",
       "    <th>6.400053</th>\n",
       "    <th>0.141682</th>\n",
       "    <th>601.877197</th>\n",
       "    <th>23:11</th>\n",
       "  </tr>\n",
       "</table>\n"
      ],
      "text/plain": [
       "<IPython.core.display.HTML object>"
      ]
     },
     "metadata": {},
     "output_type": "display_data"
    }
   ],
   "source": [
    "lm_learner.fit_one_cycle(1,2e-2)"
   ]
  },
  {
   "cell_type": "code",
   "execution_count": 34,
   "metadata": {},
   "outputs": [],
   "source": [
    "lm_learner.save('unbalanced-stage1-lm-1epoch')"
   ]
  },
  {
   "cell_type": "code",
   "execution_count": 35,
   "metadata": {},
   "outputs": [],
   "source": [
    "lm_learner.unfreeze()"
   ]
  },
  {
   "cell_type": "code",
   "execution_count": 36,
   "metadata": {},
   "outputs": [
    {
     "data": {
      "text/html": [
       "Total time: 51:07 <p><table style='width:450px; margin-bottom:10px'>\n",
       "  <tr>\n",
       "    <th>epoch</th>\n",
       "    <th>train_loss</th>\n",
       "    <th>valid_loss</th>\n",
       "    <th>accuracy</th>\n",
       "    <th>perplexity</th>\n",
       "    <th>time</th>\n",
       "  </tr>\n",
       "  <tr>\n",
       "    <th>0</th>\n",
       "    <th>5.872296</th>\n",
       "    <th>5.781565</th>\n",
       "    <th>0.171895</th>\n",
       "    <th>324.266510</th>\n",
       "    <th>25:33</th>\n",
       "  </tr>\n",
       "  <tr>\n",
       "    <th>1</th>\n",
       "    <th>5.511936</th>\n",
       "    <th>5.412830</th>\n",
       "    <th>0.192067</th>\n",
       "    <th>224.265335</th>\n",
       "    <th>25:33</th>\n",
       "  </tr>\n",
       "</table>\n"
      ],
      "text/plain": [
       "<IPython.core.display.HTML object>"
      ]
     },
     "metadata": {},
     "output_type": "display_data"
    }
   ],
   "source": [
    "lm_learner.fit_one_cycle(2,2e-2)"
   ]
  },
  {
   "cell_type": "code",
   "execution_count": 39,
   "metadata": {},
   "outputs": [],
   "source": [
    "lm_learner.save('unbalanced-stage2-lm-2epoch')"
   ]
  },
  {
   "cell_type": "code",
   "execution_count": 40,
   "metadata": {},
   "outputs": [
    {
     "data": {
      "text/html": [
       "Total time: 51:09 <p><table style='width:450px; margin-bottom:10px'>\n",
       "  <tr>\n",
       "    <th>epoch</th>\n",
       "    <th>train_loss</th>\n",
       "    <th>valid_loss</th>\n",
       "    <th>accuracy</th>\n",
       "    <th>perplexity</th>\n",
       "    <th>time</th>\n",
       "  </tr>\n",
       "  <tr>\n",
       "    <th>0</th>\n",
       "    <th>5.838557</th>\n",
       "    <th>5.712361</th>\n",
       "    <th>0.175539</th>\n",
       "    <th>302.585449</th>\n",
       "    <th>25:35</th>\n",
       "  </tr>\n",
       "  <tr>\n",
       "    <th>1</th>\n",
       "    <th>5.471070</th>\n",
       "    <th>5.373119</th>\n",
       "    <th>0.194192</th>\n",
       "    <th>215.534149</th>\n",
       "    <th>25:33</th>\n",
       "  </tr>\n",
       "</table>\n"
      ],
      "text/plain": [
       "<IPython.core.display.HTML object>"
      ]
     },
     "metadata": {},
     "output_type": "display_data"
    }
   ],
   "source": [
    "lm_learner.fit_one_cycle(2,2e-2)"
   ]
  },
  {
   "cell_type": "code",
   "execution_count": 41,
   "metadata": {},
   "outputs": [],
   "source": [
    "lm_learner.save('unbalanced-stage2-lm-4epoch')"
   ]
  },
  {
   "cell_type": "markdown",
   "metadata": {},
   "source": [
    "* To evaluate our language model, we run the `Learner.predict` method specifying the number of words we want it to guess.\n",
    "* We can see that the predicted words don't make much sense but are coherent and follow basic grammer thanks to our language model."
   ]
  },
  {
   "cell_type": "code",
   "execution_count": 44,
   "metadata": {},
   "outputs": [
    {
     "data": {
      "text/plain": [
       "'الكتاب جميل جداً في طرحه :) . بالورود رغم الإيجاز الممتع ..'"
      ]
     },
     "execution_count": 44,
     "metadata": {},
     "output_type": "execute_result"
    }
   ],
   "source": [
    "lm_learner.predict('الكتاب جميل',n_words=10)"
   ]
  },
  {
   "cell_type": "markdown",
   "metadata": {},
   "source": [
    "*We save the language model encoder to use it for classification in the next step.*"
   ]
  },
  {
   "cell_type": "code",
   "execution_count": 45,
   "metadata": {},
   "outputs": [],
   "source": [
    "lm_learner.save_encoder('unbalanced-stage2-lm-enc')"
   ]
  },
  {
   "cell_type": "markdown",
   "metadata": {},
   "source": [
    "### 3- Creating the classifer:"
   ]
  },
  {
   "cell_type": "markdown",
   "metadata": {},
   "source": [
    "*We now use the classifer databunch we created earlier to build a classifier with our fine-tuned encoder.* "
   ]
  },
  {
   "cell_type": "code",
   "execution_count": 46,
   "metadata": {},
   "outputs": [
    {
     "data": {
      "text/plain": [
       "{'emb_sz': 400,\n",
       " 'n_hid': 1550,\n",
       " 'n_layers': 3,\n",
       " 'pad_token': 1,\n",
       " 'qrnn': True,\n",
       " 'bidir': False,\n",
       " 'output_p': 0.4,\n",
       " 'hidden_p': 0.3,\n",
       " 'input_p': 0.4,\n",
       " 'embed_p': 0.05,\n",
       " 'weight_p': 0.5}"
      ]
     },
     "execution_count": 46,
     "metadata": {},
     "output_type": "execute_result"
    }
   ],
   "source": [
    "qrnn_cls_config = copy.deepcopy(awd_lstm_clas_config)\n",
    "dps = dict(output_p=0.25, hidden_p=0.1, input_p=0.2, embed_p=0.02, weight_p=0.15)\n",
    "qrnn_cls_config.update({'emb_sz':emb_sz, 'n_hid':nh, 'n_layers':nl, 'pad_token':1, 'qrnn':True})\n",
    "qrnn_cls_config"
   ]
  },
  {
   "cell_type": "code",
   "execution_count": 47,
   "metadata": {},
   "outputs": [],
   "source": [
    "clas_learner = text_classifier_learner(reviews_cls_data,AWD_LSTM,config=qrnn_cls_config,model_dir=lm_path,drop_mult=.3)"
   ]
  },
  {
   "cell_type": "code",
   "execution_count": 48,
   "metadata": {},
   "outputs": [],
   "source": [
    "clas_learner.load_encoder('unbalanced-stage2-lm-enc')"
   ]
  },
  {
   "cell_type": "code",
   "execution_count": 49,
   "metadata": {},
   "outputs": [
    {
     "data": {
      "text/html": [],
      "text/plain": [
       "<IPython.core.display.HTML object>"
      ]
     },
     "metadata": {},
     "output_type": "display_data"
    },
    {
     "name": "stdout",
     "output_type": "stream",
     "text": [
      "LR Finder is complete, type {learner_name}.recorder.plot() to see the graph.\n"
     ]
    }
   ],
   "source": [
    "clas_learner.lr_find(start_lr = slice(10e-7,10e-5),end_lr=slice(0.1,10))"
   ]
  },
  {
   "cell_type": "code",
   "execution_count": 50,
   "metadata": {},
   "outputs": [
    {
     "data": {
      "image/png": "[encoded data removed]",
      "text/plain": [
       "<Figure size 432x288 with 1 Axes>"
      ]
     },
     "metadata": {
      "needs_background": "light"
     },
     "output_type": "display_data"
    }
   ],
   "source": [
    "clas_learner.recorder.plot(skip_end=10)"
   ]
  },
  {
   "cell_type": "markdown",
   "metadata": {},
   "source": [
    "* Again We train our model starting from the last layer and there is no need to unfreeze here -also it raises an `out of memory` exception on a Nvidia p100 (16GB) machine when unfreezed :( .\n",
    "* we use `F-score` as a metric to compare our results to the cited paper."
   ]
  },
  {
   "cell_type": "code",
   "execution_count": 51,
   "metadata": {},
   "outputs": [],
   "source": [
    "clas_learner.metrics = [accuracy,FBeta(beta=3,average='weighted')]"
   ]
  },
  {
   "cell_type": "code",
   "execution_count": 52,
   "metadata": {},
   "outputs": [
    {
     "data": {
      "text/html": [
       "Total time: 07:23 <p><table style='width:450px; margin-bottom:10px'>\n",
       "  <tr>\n",
       "    <th>epoch</th>\n",
       "    <th>train_loss</th>\n",
       "    <th>valid_loss</th>\n",
       "    <th>accuracy</th>\n",
       "    <th>f_beta</th>\n",
       "    <th>time</th>\n",
       "  </tr>\n",
       "  <tr>\n",
       "    <th>0</th>\n",
       "    <th>0.189314</th>\n",
       "    <th>0.035362</th>\n",
       "    <th>0.995365</th>\n",
       "    <th>0.995362</th>\n",
       "    <th>07:23</th>\n",
       "  </tr>\n",
       "</table>\n"
      ],
      "text/plain": [
       "<IPython.core.display.HTML object>"
      ]
     },
     "metadata": {},
     "output_type": "display_data"
    }
   ],
   "source": [
    "clas_learner.fit_one_cycle(1,2e-3)"
   ]
  },
  {
   "cell_type": "code",
   "execution_count": 53,
   "metadata": {},
   "outputs": [],
   "source": [
    "clas_learner.save('unbalanced-stage1-1epoch')"
   ]
  },
  {
   "cell_type": "markdown",
   "metadata": {},
   "source": [
    "*We can test our classifier by giving it a review and see the predicted sentiment and its propablity.*"
   ]
  },
  {
   "cell_type": "code",
   "execution_count": 1,
   "metadata": {},
   "outputs": [
    {
     "data": {
      "text/plain": [
       "'الكتاب جيد'"
      ]
     },
     "execution_count": 1,
     "metadata": {},
     "output_type": "execute_result"
    }
   ],
   "source": [
    "test_text = ['الكتاب جيد','الكتاب جيد ولكن']\n",
    "test_text"
   ]
  },
  {
   "cell_type": "code",
   "execution_count": 64,
   "metadata": {},
   "outputs": [
    {
     "data": {
      "text/plain": [
       "[(Category pos, tensor(2), tensor([0.3792, 0.0738, 0.5470])),\n",
       " (Category neg, tensor(0), tensor([0.8022, 0.1618, 0.0361]))]"
      ]
     },
     "execution_count": 64,
     "metadata": {},
     "output_type": "execute_result"
    }
   ],
   "source": [
    "[clas_learner.predict(text) for text in test_text]"
   ]
  },
  {
   "cell_type": "markdown",
   "metadata": {},
   "source": [
    "*We create a temp databunch containg our held-out test dataset to validate our classifer.*"
   ]
  },
  {
   "cell_type": "code",
   "execution_count": 66,
   "metadata": {},
   "outputs": [
    {
     "data": {
      "text/plain": [
       "(510599, 5)"
      ]
     },
     "execution_count": 66,
     "metadata": {},
     "output_type": "execute_result"
    }
   ],
   "source": [
    "unbalanced_all_df = pd.concat([unbalanced_train_df,unbalanced_test_df])\n",
    "unbalanced_all_df.shape"
   ]
  },
  {
   "cell_type": "code",
   "execution_count": 67,
   "metadata": {},
   "outputs": [],
   "source": [
    "reviews_cls_test_data = (TextList.from_df(unbalanced_all_df,cols=['review','rating'],vocab=reviews_lm_data.train_ds.vocab)\n",
    "                   .split_by_idx(unbalanced_test_df.index)\n",
    "                   .label_from_func(label_for_reviews)\n",
    "                   .databunch(bs=64))"
   ]
  },
  {
   "cell_type": "code",
   "execution_count": 68,
   "metadata": {},
   "outputs": [
    {
     "data": {
      "text/plain": [
       "[0.029744586, tensor(0.9961), tensor(0.9961)]"
      ]
     },
     "execution_count": 68,
     "metadata": {},
     "output_type": "execute_result"
    }
   ],
   "source": [
    "#Validate returns (error rate , accuracy,F-score)\n",
    "clas_learner.validate(reviews_cls_test_data.valid_dl)"
   ]
  },
  {
   "cell_type": "code",
   "execution_count": null,
   "metadata": {},
   "outputs": [],
   "source": []
  }
 ],
 "metadata": {
  "kernelspec": {
   "display_name": "Python 3",
   "language": "python",
   "name": "python3"
  },
  "language_info": {
   "codemirror_mode": {
    "name": "ipython",
    "version": 3
   },
   "file_extension": ".py",
   "mimetype": "text/x-python",
   "name": "python",
   "nbconvert_exporter": "python",
   "pygments_lexer": "ipython3",
   "version": "3.7.2"
  }
 },
 "nbformat": 4,
 "nbformat_minor": 2
}
