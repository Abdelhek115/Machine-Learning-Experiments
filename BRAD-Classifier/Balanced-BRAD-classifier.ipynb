{
 "cells": [
  {
   "cell_type": "markdown",
   "metadata": {},
   "source": [
    "# Book reviews classification using Arabic ULMFIT model\n",
    "### You can get this dataset from https://github.com/elnagara/BRAD-Arabic-Dataset .\n",
    "This dataset contains 510,600 book reviews in Arabic language. The reviews were collected from GoodReads.com website during June/July 2016. The reviews are expressed mainly in Modern Standard Arabic but there are reviews in dialectal Arabic as well.\n",
    "##### *Citation*:\n",
    "> Elnagar A. and Einea O. 'BRAD 1.0: Book reviews in Arabic dataset'. 2016 IEEE/ACS 13th International Conference of Computer Systems and Applications (AICCSA), pp. 1-8, Nov 2016. DOI: 10.1109/AICCSA.2016.7945800."
   ]
  },
  {
   "cell_type": "markdown",
   "metadata": {},
   "source": [
    "For more information about ULMFIT see [Paper](https://arxiv.org/abs/1801.06146) & [Blog post](http://nlp.fast.ai/)."
   ]
  },
  {
   "cell_type": "markdown",
   "metadata": {},
   "source": [
    "### Using our pretrained Arabic ULMFIT language model we do the following:\n",
    "1- Preprocess our dataset and get it ready for use in the coming steps by creating a language model databunch & classifer databunch.\n",
    "\n",
    "2- Load our language model with pretrained weights then fine-tune it to our dataset.\n",
    "\n",
    "3- Create a classifier on top of the encoder of the language model."
   ]
  },
  {
   "cell_type": "code",
   "execution_count": 13,
   "metadata": {},
   "outputs": [],
   "source": [
    "%matplotlib inline\n",
    "%reload_ext autoreload\n",
    "%autoreload 2"
   ]
  },
  {
   "cell_type": "code",
   "execution_count": 14,
   "metadata": {},
   "outputs": [],
   "source": [
    "from fastai.text import *\n",
    "import path\n",
    "import copy"
   ]
  },
  {
   "cell_type": "code",
   "execution_count": 15,
   "metadata": {},
   "outputs": [
    {
     "data": {
      "text/plain": [
       "'1.0.51.dev0'"
      ]
     },
     "execution_count": 15,
     "metadata": {},
     "output_type": "execute_result"
    }
   ],
   "source": [
    "#Latest dev version of fastai in order to get some fixes for QRNNs\n",
    "import fastai; fastai.__version__"
   ]
  },
  {
   "cell_type": "code",
   "execution_count": 16,
   "metadata": {},
   "outputs": [],
   "source": [
    "data_path = Path('data')\n",
    "lm_path = Path('.')"
   ]
  },
  {
   "cell_type": "markdown",
   "metadata": {},
   "source": [
    "### 1- Pre-processing our Dataset :"
   ]
  },
  {
   "cell_type": "markdown",
   "metadata": {},
   "source": [
    "**This notebook uses the balanced reviews file (50 % neg, 50% pos),  you can find the notebook that uses the unbalanced reviews in the same github repo.**"
   ]
  },
  {
   "cell_type": "code",
   "execution_count": 8,
   "metadata": {},
   "outputs": [],
   "source": [
    "balanced_df = pd.read_csv(data_path/'bal-clean-reviews.tsv.txt',delimiter='\\t',encoding='utf-8')"
   ]
  },
  {
   "cell_type": "code",
   "execution_count": 7,
   "metadata": {},
   "outputs": [
    {
     "data": {
      "text/html": [
       "<div>\n",
       "<style scoped>\n",
       "    .dataframe tbody tr th:only-of-type {\n",
       "        vertical-align: middle;\n",
       "    }\n",
       "\n",
       "    .dataframe tbody tr th {\n",
       "        vertical-align: top;\n",
       "    }\n",
       "\n",
       "    .dataframe thead th {\n",
       "        text-align: right;\n",
       "    }\n",
       "</style>\n",
       "<table border=\"1\" class=\"dataframe\">\n",
       "  <thead>\n",
       "    <tr style=\"text-align: right;\">\n",
       "      <th></th>\n",
       "      <th>rating</th>\n",
       "      <th>review id</th>\n",
       "      <th>user id</th>\n",
       "      <th>book id</th>\n",
       "      <th>review</th>\n",
       "    </tr>\n",
       "  </thead>\n",
       "  <tbody>\n",
       "    <tr>\n",
       "      <th>0</th>\n",
       "      <td>2</td>\n",
       "      <td>1665743403</td>\n",
       "      <td>21435637</td>\n",
       "      <td>13637412</td>\n",
       "      <td>قرأتها من فترة طويلة و لا يحضرني فيها الا اعجا...</td>\n",
       "    </tr>\n",
       "    <tr>\n",
       "      <th>1</th>\n",
       "      <td>2</td>\n",
       "      <td>1664872313</td>\n",
       "      <td>20015365</td>\n",
       "      <td>13637412</td>\n",
       "      <td>كان نفسي احب الرواية دي، أغلب اصدقائي اللي قرأ...</td>\n",
       "    </tr>\n",
       "    <tr>\n",
       "      <th>2</th>\n",
       "      <td>2</td>\n",
       "      <td>1659286461</td>\n",
       "      <td>56517018</td>\n",
       "      <td>13637412</td>\n",
       "      <td>عملوا منها مسلسل. اجوف المسلسل ولا اقرى الرواي...</td>\n",
       "    </tr>\n",
       "    <tr>\n",
       "      <th>3</th>\n",
       "      <td>2</td>\n",
       "      <td>1657686339</td>\n",
       "      <td>22103652</td>\n",
       "      <td>13637412</td>\n",
       "      <td>لطيفه :). كأنك بتتفرج ع مسلسل بس نوعا ما لطيف</td>\n",
       "    </tr>\n",
       "    <tr>\n",
       "      <th>4</th>\n",
       "      <td>2</td>\n",
       "      <td>1657401919</td>\n",
       "      <td>56445490</td>\n",
       "      <td>13637412</td>\n",
       "      <td>الرواية جميلة تحمل معاني ورسالات كثيرة اراد ال...</td>\n",
       "    </tr>\n",
       "  </tbody>\n",
       "</table>\n",
       "</div>"
      ],
      "text/plain": [
       "   rating   review id   user id   book id  \\\n",
       "0       2  1665743403  21435637  13637412   \n",
       "1       2  1664872313  20015365  13637412   \n",
       "2       2  1659286461  56517018  13637412   \n",
       "3       2  1657686339  22103652  13637412   \n",
       "4       2  1657401919  56445490  13637412   \n",
       "\n",
       "                                              review  \n",
       "0  قرأتها من فترة طويلة و لا يحضرني فيها الا اعجا...  \n",
       "1  كان نفسي احب الرواية دي، أغلب اصدقائي اللي قرأ...  \n",
       "2  عملوا منها مسلسل. اجوف المسلسل ولا اقرى الرواي...  \n",
       "3      لطيفه :). كأنك بتتفرج ع مسلسل بس نوعا ما لطيف  \n",
       "4  الرواية جميلة تحمل معاني ورسالات كثيرة اراد ال...  "
      ]
     },
     "execution_count": 7,
     "metadata": {},
     "output_type": "execute_result"
    }
   ],
   "source": [
    "balanced_df.head()"
   ]
  },
  {
   "cell_type": "code",
   "execution_count": 9,
   "metadata": {},
   "outputs": [
    {
     "data": {
      "text/plain": [
       "(156506, 5)"
      ]
     },
     "execution_count": 9,
     "metadata": {},
     "output_type": "execute_result"
    }
   ],
   "source": [
    "balanced_df.shape"
   ]
  },
  {
   "cell_type": "markdown",
   "metadata": {},
   "source": [
    "*Create A held-out test dataset using 10% of our full dataset. and drop it from the full dataset.*"
   ]
  },
  {
   "cell_type": "code",
   "execution_count": 10,
   "metadata": {},
   "outputs": [],
   "source": [
    "test_df = balanced_df.sample(frac = .1 ,replace=False,random_state = 42)"
   ]
  },
  {
   "cell_type": "code",
   "execution_count": 11,
   "metadata": {},
   "outputs": [
    {
     "data": {
      "text/plain": [
       "(140855, 5)"
      ]
     },
     "execution_count": 11,
     "metadata": {},
     "output_type": "execute_result"
    }
   ],
   "source": [
    "balanced_df = balanced_df.drop(test_df.index)\n",
    "balanced_df.shape"
   ]
  },
  {
   "cell_type": "markdown",
   "metadata": {},
   "source": [
    "*Create 2 csv files containing our train/valid and our test datasets.*"
   ]
  },
  {
   "cell_type": "code",
   "execution_count": 12,
   "metadata": {},
   "outputs": [],
   "source": [
    "balanced_df.to_csv(data_path/'balanced_reviews_train.csv',index=False)\n",
    "test_df.to_csv(data_path/'balanced_reviews_test.csv',index=False)"
   ]
  },
  {
   "cell_type": "code",
   "execution_count": 96,
   "metadata": {},
   "outputs": [],
   "source": [
    "balanced_train_df = pd.read_csv(data_path/'balanced_reviews_train.csv')\n",
    "balanced_test_df = pd.read_csv(data_path/'balanced_reviews_test.csv')"
   ]
  },
  {
   "cell_type": "markdown",
   "metadata": {},
   "source": [
    "* Create a Language model databunch that does all the necessary preprocessing like tokenization and numericalization.\n",
    "\n",
    "* All the text in the dataset is concatenated and the labels are ignored. Instead, the target is the next word in the sentence.\n",
    "\n",
    "* We also create a validation set that is 10% of our full dataset (80% train 10% valid 10% test)."
   ]
  },
  {
   "cell_type": "code",
   "execution_count": 16,
   "metadata": {},
   "outputs": [],
   "source": [
    "reviews_lm_data = (TextList.from_df(balanced_train_df,cols=['review'])\n",
    "                   .split_by_rand_pct(.1)\n",
    "                   .label_for_lm()\n",
    "                   .databunch(bs=64))"
   ]
  },
  {
   "cell_type": "code",
   "execution_count": 17,
   "metadata": {},
   "outputs": [
    {
     "data": {
      "text/html": [
       "<table border=\"1\" class=\"dataframe\">\n",
       "  <thead>\n",
       "    <tr style=\"text-align: right;\">\n",
       "      <th>idx</th>\n",
       "      <th>text</th>\n",
       "    </tr>\n",
       "  </thead>\n",
       "  <tbody>\n",
       "    <tr>\n",
       "      <td>0</td>\n",
       "      <td>كرم اخلاقه . غنيمة مش xxunk غير كلام فلان xxunk ودي كانت حاجة سخيفة جدا ، اخواته xxunk \" \" ما عدا هند \" \" ومش xxunk غير كلام xxunk ، حاجة تشل يعني -_- الخدم كانوا xxunk برضه xxunk المعاملة السيئة بكل تسامح وطيبة -_- وسبحان الله ابن الجيران طلع واحد من الناس اللي سافرت الفليبين xxunk هوزيه ! شوف القدر يا اخي . وقع الكتاب كان بطيء جدا</td>\n",
       "    </tr>\n",
       "    <tr>\n",
       "      <td>1</td>\n",
       "      <td>xxunk التنبيه على أخطاء لغوية : . \" \" ’ \" \" بدل \" \" \" \" xxunk . أسوأ لحظات القراءة هي xxunk xxunk xxunk ، لمجرد أنّي لا أحب أن أبدأ شيئاً بدون انهاءه . نجمة واحدة للعنوان xxbos لا اعلم . مبالغ في طريقة وصف المشاعر بطريقة ممله . ضعف المرأه مبالغ به ايضًا . لا اعلم حقًا . xxbos انطباعي العام عن الرواية سلبي اكتر ما</td>\n",
       "    </tr>\n",
       "    <tr>\n",
       "      <td>2</td>\n",
       "      <td>، اعتمد فيه على استخدام مفردات العامية المصرية و الكثير من التيمات الرائجة بين جمهور الشباب المعاصر الأمر الذي ساعد كثيراً في رواج الرواية و xxunk ، خصوصاً مع تلك الجرعة المكثفة من الالتفاف الذكي حول فكرة الحب و جوهره و كنهه . عذاباته و آلامه و أحلامه و رومانسيته و xxunk . استمتعت بالرواية كمن يستمتع xxunk خفيفة بين الوجبات الرئيسية ، ، لكني لم أستطيع أن أصنفها على</td>\n",
       "    </tr>\n",
       "    <tr>\n",
       "      <td>3</td>\n",
       "      <td>xxbos لم أكمل قرائة الكتاب كاملا ، لكن يكفيني ما أتممت لمعرفة نسق الكتاب . كتاب جميل . لكن ممل . جدا ً . مجموعة مقالات لا تربطها الا صفة محاولة بعث التفاؤل في نفس القارئ . تنجح xxunk ً . و تخيب في أحيان أخرى . xxbos لَم يُعجبني أبدًا ، أبدًا . xxunk أكمله . xxbos بيكاسو وستاربكس يعتبر أحد الكتب التي حازت على شهرة كبيرة خلال الفترة</td>\n",
       "    </tr>\n",
       "    <tr>\n",
       "      <td>4</td>\n",
       "      <td>السبب في تقييمي للرواية xxunk ! ! . قريت الرواية بسرعة في الأول بسبب اني عايزة أعرف اللي هايحصل و منتظرة تجديد و في الاخر عشان اخلصها و اخلص منها . لان في رواية شيكاغو مقدرتش أكمل و مكانش عندي فكرة عن طرق نهايات الكاتب لرواياته و عشان كده اصريت اكمل للاخر عشان اعرف اخرتها و احبطت جدا جدا من النهاية المبتورة سواء في الشخصيات اللي اتذكر نهايتها أو الشخصيات</td>\n",
       "    </tr>\n",
       "  </tbody>\n",
       "</table>"
      ],
      "text/plain": [
       "<IPython.core.display.HTML object>"
      ]
     },
     "metadata": {},
     "output_type": "display_data"
    }
   ],
   "source": [
    "reviews_lm_data.show_batch()"
   ]
  },
  {
   "cell_type": "markdown",
   "metadata": {},
   "source": [
    "*Save our databunch so we can load it instantly later if we want.*"
   ]
  },
  {
   "cell_type": "code",
   "execution_count": 18,
   "metadata": {},
   "outputs": [],
   "source": [
    "reviews_lm_data.save('balanced_reviews_lm')"
   ]
  },
  {
   "cell_type": "code",
   "execution_count": 18,
   "metadata": {},
   "outputs": [],
   "source": [
    "reviews_lm_data = load_data(lm_path,'balanced_reviews_lm')"
   ]
  },
  {
   "cell_type": "markdown",
   "metadata": {},
   "source": [
    "* Create a classification databunch that does all the necessary preprocessing like tokenization and numericalization.\n",
    "* We map the rating to labels ('pos' or 'neg').\n",
    "* We also pass the vocabulary (mapping from ids to words) that we want to use to ensure that our classification databunch will use the same dictionary as our language model databunch."
   ]
  },
  {
   "cell_type": "code",
   "execution_count": 10,
   "metadata": {},
   "outputs": [],
   "source": [
    "label_for_reviews = lambda x: 'neg' if(x[1] < 3) else 'pos'"
   ]
  },
  {
   "cell_type": "code",
   "execution_count": 22,
   "metadata": {},
   "outputs": [],
   "source": [
    "reviews_cls_data = (TextList.from_df(balanced_train_df,cols=['review','rating'],vocab=reviews_lm_data.train_ds.vocab)\n",
    "                   .split_by_rand_pct(.1)\n",
    "                   .label_from_func(label_for_reviews)\n",
    "                   .databunch(bs=64))"
   ]
  },
  {
   "cell_type": "code",
   "execution_count": 23,
   "metadata": {},
   "outputs": [
    {
     "data": {
      "text/html": [
       "<table border=\"1\" class=\"dataframe\">\n",
       "  <thead>\n",
       "    <tr style=\"text-align: right;\">\n",
       "      <th>text</th>\n",
       "      <th>target</th>\n",
       "    </tr>\n",
       "  </thead>\n",
       "  <tbody>\n",
       "    <tr>\n",
       "      <td>xxbos الرواية من أسوأ ما قرأت عامة ، ، جمعت فيها مواضيع كتيرة جدا xxunk من اخطاء تاريخية و تلميحات غير سليمة ولكن للأسف انا حزين من الوقت اللى قراتها فيه لدرجة أننى قررت انقل تقرير واحد تانى عن الرواية عشان xxunk اكتب لها حاجة محترمة . الحاجة الوحيدة اللى xxunk منها هى انى محتاج ارجع اقرا تاريخ ابن xxunk و xxunk و الجبرتى بدل تضييع الوقت فى xxunk كلام</td>\n",
       "      <td>neg</td>\n",
       "    </tr>\n",
       "    <tr>\n",
       "      <td>xxbos رأيت رام الله . مريد البرغوثي . المركز الثقافي العربي . أدبي ( سيرة ذاتية ) . مراجعة الكتاب : . ما أجمل أن يكتب xxunk xxunk ! ، xxunk من شعر محمود درويش نثره ، وأجمل من شعر نزار قباني نثره ، ومريد البرغوثي لا xxunk عن القاعدة . رأيت رام الله سردٌ xxunk xxunk فيها الكثير من الألم xxunk من الدموع xxunk على الوطن xxunk وأبناءه xxunk</td>\n",
       "      <td>pos</td>\n",
       "    </tr>\n",
       "    <tr>\n",
       "      <td>xxbos xxunk من رواية ' العبيد الجدد ' لـ ياسر حارب . نقلها لكم : . ~ في لحظات الخوف لا يعود للأسئلة أي معن . ~ xxunk تعريف المجد يا وائل ؟ أهو الموت من أجل قضية ، أم الحياة من xxunk - المجد أن يتمكن أحدنا من إحياء قضيته ، حت وإن كان ميتا . xxunk الكتاب من يستطيعون فعل ذلك . انظر إل فولتير xxunk xxunk ،</td>\n",
       "      <td>pos</td>\n",
       "    </tr>\n",
       "    <tr>\n",
       "      <td>xxbos السلام عليك يا صديقي . سأكتب إليك لأنك صديقي ، وحسب ، فإن xxunk كلامي فأخذ به ، وإن لم xxunk ، xxunk أني لم أكتب شيئا . أولا : يجب أن أثني علي البداية ، xxunk مباشرة وجها لوجه مع البطل ، xxunk إلي عالمه الخاص . ثانيا : لبني ، وكريم عاشا الحب بسطحية الأفلام العربية القديمة ، عرفنا أنهما عاشا الحب ، لكن كان يجب عليك</td>\n",
       "      <td>neg</td>\n",
       "    </tr>\n",
       "    <tr>\n",
       "      <td>xxbos تلخيص : . اعتمد الكاتب في xxunk الكتاب حسب قوله على عملية استقراء \" \" للنص القرآني \" \" من أجل \" \" xxunk عشرات الآيات \" \" و التي من شأنها أن \" \" xxunk على لسان الله نفسه ، xxunk عن xxunk المعجزات ، التي xxunk بها رسوله أو المؤمنون به ، و على xxunk xxunk . \" \" و بنى على أساس هذه الآيات التي xxunk</td>\n",
       "      <td>neg</td>\n",
       "    </tr>\n",
       "  </tbody>\n",
       "</table>"
      ],
      "text/plain": [
       "<IPython.core.display.HTML object>"
      ]
     },
     "metadata": {},
     "output_type": "display_data"
    }
   ],
   "source": [
    "reviews_cls_data.show_batch()"
   ]
  },
  {
   "cell_type": "code",
   "execution_count": 24,
   "metadata": {},
   "outputs": [],
   "source": [
    "reviews_cls_data.save('balanced_reviews_cls')"
   ]
  },
  {
   "cell_type": "code",
   "execution_count": 19,
   "metadata": {},
   "outputs": [],
   "source": [
    "reviews_cls_data = load_data(lm_path,'balanced_reviews_cls')"
   ]
  },
  {
   "cell_type": "markdown",
   "metadata": {},
   "source": [
    "## 2- Fine-tune our LM to our Dataset:"
   ]
  },
  {
   "cell_type": "code",
   "execution_count": 64,
   "metadata": {},
   "outputs": [],
   "source": [
    "pretrained_lm_fname = 'new_lm'\n",
    "pretrained_itos_fname = 'itos'"
   ]
  },
  {
   "cell_type": "markdown",
   "metadata": {},
   "source": [
    "* We will create a uni-directional [QRNN] (https://arxiv.org/abs/1611.01576) that will load our pre-trained language model weights stored in `new_lm.pth` and also load  `itos.pkl`  which contains our id to token mapping.\n",
    "* We also pass it our language model databunch which we will fine-tune our language model to."
   ]
  },
  {
   "cell_type": "code",
   "execution_count": 65,
   "metadata": {},
   "outputs": [
    {
     "data": {
      "text/plain": [
       "{'emb_sz': 400,\n",
       " 'n_hid': 1550,\n",
       " 'n_layers': 3,\n",
       " 'pad_token': 1,\n",
       " 'qrnn': True,\n",
       " 'bidir': False,\n",
       " 'output_p': 0.1,\n",
       " 'hidden_p': 0.15,\n",
       " 'input_p': 0.25,\n",
       " 'embed_p': 0.02,\n",
       " 'weight_p': 0.2,\n",
       " 'tie_weights': True,\n",
       " 'out_bias': True}"
      ]
     },
     "execution_count": 65,
     "metadata": {},
     "output_type": "execute_result"
    }
   ],
   "source": [
    "emb_sz:int = 400\n",
    "nh: int = 1550\n",
    "nl: int = 3\n",
    "    \n",
    "qrnn_config = copy.deepcopy(awd_lstm_lm_config)\n",
    "dps = dict(output_p=0.25, hidden_p=0.1, input_p=0.2, embed_p=0.02, weight_p=0.15)\n",
    "qrnn_config.update({'emb_sz':emb_sz, 'n_hid':nh, 'n_layers':nl, 'pad_token':1, 'qrnn':True})\n",
    "qrnn_config"
   ]
  },
  {
   "cell_type": "code",
   "execution_count": 66,
   "metadata": {},
   "outputs": [],
   "source": [
    "lm_learner = language_model_learner(reviews_lm_data,AWD_LSTM,pretrained=False,config=qrnn_config, model_dir=lm_path,drop_mult=.3,pretrained_fnames=(pretrained_lm_fname,pretrained_itos_fname))"
   ]
  },
  {
   "cell_type": "code",
   "execution_count": 67,
   "metadata": {},
   "outputs": [
    {
     "data": {
      "text/html": [],
      "text/plain": [
       "<IPython.core.display.HTML object>"
      ]
     },
     "metadata": {},
     "output_type": "display_data"
    },
    {
     "name": "stdout",
     "output_type": "stream",
     "text": [
      "LR Finder is complete, type {learner_name}.recorder.plot() to see the graph.\n"
     ]
    }
   ],
   "source": [
    "lm_learner.lr_find(start_lr = slice(10e-7,10e-5),end_lr=slice(0.1,10))"
   ]
  },
  {
   "cell_type": "code",
   "execution_count": 68,
   "metadata": {},
   "outputs": [
    {
     "data": {
      "image/png": "[encoded data removed]",
      "text/plain": [
       "<Figure size 432x288 with 1 Axes>"
      ]
     },
     "metadata": {
      "needs_background": "light"
     },
     "output_type": "display_data"
    }
   ],
   "source": [
    "lm_learner.recorder.plot(skip_end=10)"
   ]
  },
  {
   "cell_type": "code",
   "execution_count": 69,
   "metadata": {},
   "outputs": [],
   "source": [
    "lm_learner.metrics = [accuracy,Perplexity()]"
   ]
  },
  {
   "cell_type": "markdown",
   "metadata": {},
   "source": [
    "*We train our model starting from the last layer then unfreezing the model and training the entire network*"
   ]
  },
  {
   "cell_type": "code",
   "execution_count": 71,
   "metadata": {},
   "outputs": [
    {
     "data": {
      "text/html": [
       "Total time: 06:29 <p><table style='width:450px; margin-bottom:10px'>\n",
       "  <tr>\n",
       "    <th>epoch</th>\n",
       "    <th>train_loss</th>\n",
       "    <th>valid_loss</th>\n",
       "    <th>accuracy</th>\n",
       "    <th>perplexity</th>\n",
       "    <th>time</th>\n",
       "  </tr>\n",
       "  <tr>\n",
       "    <th>0</th>\n",
       "    <th>6.726789</th>\n",
       "    <th>5.797726</th>\n",
       "    <th>0.142857</th>\n",
       "    <th>329.549377</th>\n",
       "    <th>06:29</th>\n",
       "  </tr>\n",
       "</table>\n"
      ],
      "text/plain": [
       "<IPython.core.display.HTML object>"
      ]
     },
     "metadata": {},
     "output_type": "display_data"
    }
   ],
   "source": [
    "lm_learner.fit_one_cycle(1,2e-2)"
   ]
  },
  {
   "cell_type": "code",
   "execution_count": 72,
   "metadata": {},
   "outputs": [],
   "source": [
    "lm_learner.save('balanced-stage1-lm-1epoch')"
   ]
  },
  {
   "cell_type": "code",
   "execution_count": 73,
   "metadata": {},
   "outputs": [],
   "source": [
    "lm_learner.unfreeze()"
   ]
  },
  {
   "cell_type": "code",
   "execution_count": 74,
   "metadata": {},
   "outputs": [
    {
     "data": {
      "text/html": [
       "Total time: 14:23 <p><table style='width:450px; margin-bottom:10px'>\n",
       "  <tr>\n",
       "    <th>epoch</th>\n",
       "    <th>train_loss</th>\n",
       "    <th>valid_loss</th>\n",
       "    <th>accuracy</th>\n",
       "    <th>perplexity</th>\n",
       "    <th>time</th>\n",
       "  </tr>\n",
       "  <tr>\n",
       "    <th>0</th>\n",
       "    <th>6.003304</th>\n",
       "    <th>5.448702</th>\n",
       "    <th>0.171429</th>\n",
       "    <th>232.456314</th>\n",
       "    <th>07:11</th>\n",
       "  </tr>\n",
       "  <tr>\n",
       "    <th>1</th>\n",
       "    <th>5.635959</th>\n",
       "    <th>5.256156</th>\n",
       "    <th>0.200000</th>\n",
       "    <th>191.742996</th>\n",
       "    <th>07:11</th>\n",
       "  </tr>\n",
       "</table>\n"
      ],
      "text/plain": [
       "<IPython.core.display.HTML object>"
      ]
     },
     "metadata": {},
     "output_type": "display_data"
    }
   ],
   "source": [
    "lm_learner.fit_one_cycle(2,2e-2)"
   ]
  },
  {
   "cell_type": "code",
   "execution_count": 75,
   "metadata": {},
   "outputs": [],
   "source": [
    "lm_learner.save('balanced-stage2-lm-2epoch')"
   ]
  },
  {
   "cell_type": "code",
   "execution_count": 76,
   "metadata": {},
   "outputs": [
    {
     "data": {
      "text/html": [
       "Total time: 14:23 <p><table style='width:450px; margin-bottom:10px'>\n",
       "  <tr>\n",
       "    <th>epoch</th>\n",
       "    <th>train_loss</th>\n",
       "    <th>valid_loss</th>\n",
       "    <th>accuracy</th>\n",
       "    <th>perplexity</th>\n",
       "    <th>time</th>\n",
       "  </tr>\n",
       "  <tr>\n",
       "    <th>0</th>\n",
       "    <th>5.853631</th>\n",
       "    <th>5.405992</th>\n",
       "    <th>0.185714</th>\n",
       "    <th>222.737061</th>\n",
       "    <th>07:11</th>\n",
       "  </tr>\n",
       "  <tr>\n",
       "    <th>1</th>\n",
       "    <th>5.551874</th>\n",
       "    <th>5.159392</th>\n",
       "    <th>0.185714</th>\n",
       "    <th>174.058655</th>\n",
       "    <th>07:11</th>\n",
       "  </tr>\n",
       "</table>\n"
      ],
      "text/plain": [
       "<IPython.core.display.HTML object>"
      ]
     },
     "metadata": {},
     "output_type": "display_data"
    }
   ],
   "source": [
    "lm_learner.fit_one_cycle(2,2e-2)"
   ]
  },
  {
   "cell_type": "code",
   "execution_count": 78,
   "metadata": {},
   "outputs": [],
   "source": [
    "lm_learner.save('balanced-stage2-lm-4epoch')"
   ]
  },
  {
   "cell_type": "markdown",
   "metadata": {},
   "source": [
    "* To evaluate our language model, we run the `Learner.predict` method specifying the number of words we want it to guess.\n",
    "* We can see that the predicted words don't make much sense but are coherent and follow basic grammer thanks to our language model."
   ]
  },
  {
   "cell_type": "code",
   "execution_count": 79,
   "metadata": {},
   "outputs": [
    {
     "data": {
      "text/plain": [
       "'الكتاب جميل وكم المعلومات الموجودة فعلا لا أدري ولكن ما أعرف ماذا'"
      ]
     },
     "execution_count": 79,
     "metadata": {},
     "output_type": "execute_result"
    }
   ],
   "source": [
    "lm_learner.predict('الكتاب جميل',n_words=10)"
   ]
  },
  {
   "cell_type": "markdown",
   "metadata": {},
   "source": [
    "*We save the language model encoder to use it for classification in the next step.*"
   ]
  },
  {
   "cell_type": "code",
   "execution_count": 80,
   "metadata": {},
   "outputs": [],
   "source": [
    "lm_learner.save_encoder('balanced-stage2-lm-enc')"
   ]
  },
  {
   "cell_type": "markdown",
   "metadata": {},
   "source": [
    "### 3- Creating the classifer:"
   ]
  },
  {
   "cell_type": "markdown",
   "metadata": {},
   "source": [
    "*We now use the classifer databunch we created earlier to build a classifier with our fine-tuned encoder.* "
   ]
  },
  {
   "cell_type": "code",
   "execution_count": 81,
   "metadata": {
    "scrolled": true
   },
   "outputs": [
    {
     "data": {
      "text/plain": [
       "{'emb_sz': 400,\n",
       " 'n_hid': 1550,\n",
       " 'n_layers': 3,\n",
       " 'pad_token': 1,\n",
       " 'qrnn': True,\n",
       " 'bidir': False,\n",
       " 'output_p': 0.4,\n",
       " 'hidden_p': 0.3,\n",
       " 'input_p': 0.4,\n",
       " 'embed_p': 0.05,\n",
       " 'weight_p': 0.5}"
      ]
     },
     "execution_count": 81,
     "metadata": {},
     "output_type": "execute_result"
    }
   ],
   "source": [
    "qrnn_cls_config = copy.deepcopy(awd_lstm_clas_config)\n",
    "dps = dict(output_p=0.25, hidden_p=0.1, input_p=0.2, embed_p=0.02, weight_p=0.15)\n",
    "qrnn_cls_config.update({'emb_sz':emb_sz, 'n_hid':nh, 'n_layers':nl, 'pad_token':1, 'qrnn':True})\n",
    "qrnn_cls_config"
   ]
  },
  {
   "cell_type": "code",
   "execution_count": 82,
   "metadata": {},
   "outputs": [],
   "source": [
    "clas_learner = text_classifier_learner(reviews_cls_data,AWD_LSTM,config=qrnn_cls_config,model_dir=lm_path,drop_mult=.3)"
   ]
  },
  {
   "cell_type": "code",
   "execution_count": 83,
   "metadata": {},
   "outputs": [],
   "source": [
    "clas_learner.load_encoder('balanced-stage2-lm-enc')"
   ]
  },
  {
   "cell_type": "code",
   "execution_count": 84,
   "metadata": {},
   "outputs": [
    {
     "data": {
      "text/html": [],
      "text/plain": [
       "<IPython.core.display.HTML object>"
      ]
     },
     "metadata": {},
     "output_type": "display_data"
    },
    {
     "name": "stdout",
     "output_type": "stream",
     "text": [
      "LR Finder is complete, type {learner_name}.recorder.plot() to see the graph.\n"
     ]
    }
   ],
   "source": [
    "clas_learner.lr_find(start_lr = slice(10e-7,10e-5),end_lr=slice(0.1,10))"
   ]
  },
  {
   "cell_type": "code",
   "execution_count": 85,
   "metadata": {},
   "outputs": [
    {
     "data": {
      "image/png": "[encoded data removed]",
      "text/plain": [
       "<Figure size 432x288 with 1 Axes>"
      ]
     },
     "metadata": {
      "needs_background": "light"
     },
     "output_type": "display_data"
    }
   ],
   "source": [
    "clas_learner.recorder.plot(skip_end=10)"
   ]
  },
  {
   "cell_type": "markdown",
   "metadata": {},
   "source": [
    "* Again We train our model starting from the last layer and there is no need to unfreeze here -also it raises an `out of memory` exception on a Nvidia p100 (16GB) machine when unfreezed :( .\n",
    "* we use `F-score` as a metric to compare our results to the cited paper."
   ]
  },
  {
   "cell_type": "code",
   "execution_count": 86,
   "metadata": {},
   "outputs": [],
   "source": [
    "clas_learner.metrics = [accuracy,FBeta()]"
   ]
  },
  {
   "cell_type": "code",
   "execution_count": 87,
   "metadata": {},
   "outputs": [
    {
     "data": {
      "text/html": [
       "Total time: 02:21 <p><table style='width:450px; margin-bottom:10px'>\n",
       "  <tr>\n",
       "    <th>epoch</th>\n",
       "    <th>train_loss</th>\n",
       "    <th>valid_loss</th>\n",
       "    <th>accuracy</th>\n",
       "    <th>f_beta</th>\n",
       "    <th>time</th>\n",
       "  </tr>\n",
       "  <tr>\n",
       "    <th>0</th>\n",
       "    <th>0.036592</th>\n",
       "    <th>0.001100</th>\n",
       "    <th>0.999929</th>\n",
       "    <th>0.999886</th>\n",
       "    <th>02:21</th>\n",
       "  </tr>\n",
       "</table>\n"
      ],
      "text/plain": [
       "<IPython.core.display.HTML object>"
      ]
     },
     "metadata": {},
     "output_type": "display_data"
    }
   ],
   "source": [
    "clas_learner.fit_one_cycle(1,2e-3)"
   ]
  },
  {
   "cell_type": "code",
   "execution_count": 88,
   "metadata": {},
   "outputs": [],
   "source": [
    "clas_learner.save('balanced-stage1-1epoch')"
   ]
  },
  {
   "cell_type": "markdown",
   "metadata": {},
   "source": [
    "*We can test our classifier by giving it a review and see the predicted sentiment and its propablity.*"
   ]
  },
  {
   "cell_type": "code",
   "execution_count": 89,
   "metadata": {},
   "outputs": [
    {
     "data": {
      "text/plain": [
       "'الكتاب جيد'"
      ]
     },
     "execution_count": 89,
     "metadata": {},
     "output_type": "execute_result"
    }
   ],
   "source": [
    "test_text = ['الكتاب جيد','الكتاب جيد ولكن']\n",
    "test_text[0]"
   ]
  },
  {
   "cell_type": "code",
   "execution_count": 90,
   "metadata": {},
   "outputs": [
    {
     "data": {
      "text/plain": [
       "[(Category pos, tensor(1), tensor([0.1952, 0.8048])),\n",
       " (Category neg, tensor(0), tensor([0.9946, 0.0054]))]"
      ]
     },
     "execution_count": 90,
     "metadata": {},
     "output_type": "execute_result"
    }
   ],
   "source": [
    "[clas_learner.predict(text) for text in test_text]"
   ]
  },
  {
   "cell_type": "code",
   "execution_count": 103,
   "metadata": {},
   "outputs": [
    {
     "data": {
      "text/html": [
       "<table border=\"1\" class=\"dataframe\">\n",
       "  <thead>\n",
       "    <tr style=\"text-align: right;\">\n",
       "      <th>text</th>\n",
       "      <th>target</th>\n",
       "      <th>prediction</th>\n",
       "    </tr>\n",
       "  </thead>\n",
       "  <tbody>\n",
       "    <tr>\n",
       "      <td>xxbos أحد فصول كتابي ( الطب النبوي بين الفقيه والطبيب ) xxunk قراءة لكتاب الطب النبوي لإبن القيم : . مشكلة من كتب في موضوع الطب النبوي أنه حشد كماً هائلاً من الآيات القرآنية العامة والأحاديث النبوية الصحيحة xxunk xxunk xxunk xxunk لها بآراء أطباء اليونان والرومان والعرب ، ثم قدم لنا ما يسمى الطب النبوي ، وهذا العمل فيه تدليس على الناس الذين يقرأون هذه الكتب xxunk أن كل</td>\n",
       "      <td>neg</td>\n",
       "      <td>neg</td>\n",
       "    </tr>\n",
       "    <tr>\n",
       "      <td>xxbos 42 ( ) المادة الملكية الخاصة xxunk ، تؤدى وظيفتها الاجتماعية فى خدمة الاقتصاد الوطنى دون انحراف أو احتكار ، وحق الإرث فيها xxunk .ولا يجوز فرض xxunk عليها إلا فى الأحوال xxunk فى القانون ، وبحكم xxunk ؛ ولا تنزع إلا xxunk العامة ، xxunk تعويض عادل xxunk مقدما .وذلك كله وفقا لما xxunk القانون • لا xxunk الملكية الخاصة تحت أي مسمي 42 ( ) المادة .لا</td>\n",
       "      <td>neg</td>\n",
       "      <td>neg</td>\n",
       "    </tr>\n",
       "    <tr>\n",
       "      <td>xxbos تكوين العقل العربي / محمد عابد الجابري . يبتدئ محمد عبد الجابري كتابه هذا xxunk ملح ؛ كيف يمكن لعقل لم يقم بمراجعة شاملة xxunk xxunk وتصوراته xxunk أن ينهض ؟ وتحت ظل هذا التساؤل الكبير يقدم الجابري مشروعه لنقد العقل العربي . أو على الأخص نقد ومراجعة \" \" الثقافة العالمة \" \" في هذا العقل ، وتتبع بناها الداخلية ، xxunk الثقافة الشعبية والأمثال والأساطير ؛ بمعنى</td>\n",
       "      <td>pos</td>\n",
       "      <td>pos</td>\n",
       "    </tr>\n",
       "    <tr>\n",
       "      <td>xxbos يحظى هذا الكتاب بأهمية كبيرة - في تقديري - بسبب أمور عدة : . - اكتشاف طريقة جميلة للسرد الروائي أبدع فيها ميلان كونديرا عبر رحلة تكسر الطوق الزمني لمسار الأحداث ، في حركة xxunk تبدأ ثم تسير xxunk ثم ترجع إلى الوراء ، وبشكل مُتقن يفتح الباب أمام فهم بعض الأحداث بأثر xxunk . - الفلسفة القوية التي ضمنها الروائي الكبير روايته هذه ، وهي تحمل تصوراته الفكرية</td>\n",
       "      <td>pos</td>\n",
       "      <td>pos</td>\n",
       "    </tr>\n",
       "    <tr>\n",
       "      <td>xxbos لا أدري xxunk xxunk حذفت xxunk xxunk بعض السطور من الكتيب الرائع أم أنني اردت اقتباس معظمه xxrep 5 ! . xxunk الروح \" \" للأستاذ سيد قطب . فيه نزهة لمن أراد xxunk في رحاب أفكار xxunk له أثره في الذاكرة الإسلامية . هذه xxunk نجدها في كتيب صغير xxunk الروح \" \" كما وصل إلينا . وهو كتيب مجموع من عدة رسائل شخصية أرسلها القارئ إلى اخواته</td>\n",
       "      <td>pos</td>\n",
       "      <td>pos</td>\n",
       "    </tr>\n",
       "  </tbody>\n",
       "</table>"
      ],
      "text/plain": [
       "<IPython.core.display.HTML object>"
      ]
     },
     "metadata": {},
     "output_type": "display_data"
    }
   ],
   "source": [
    "clas_learner.show_results()"
   ]
  },
  {
   "cell_type": "markdown",
   "metadata": {},
   "source": [
    "*We create a temp databunch containg our held-out test dataset to validate our classifer.*"
   ]
  },
  {
   "cell_type": "code",
   "execution_count": 97,
   "metadata": {},
   "outputs": [
    {
     "data": {
      "text/plain": [
       "(156506, 5)"
      ]
     },
     "execution_count": 97,
     "metadata": {},
     "output_type": "execute_result"
    }
   ],
   "source": [
    "balanced_all_df = pd.concat([balanced_train_df,balanced_test_df])\n",
    "balanced_all_df.shape"
   ]
  },
  {
   "cell_type": "code",
   "execution_count": 98,
   "metadata": {},
   "outputs": [],
   "source": [
    "reviews_cls_test_data = (TextList.from_df(balanced_all_df,cols=['review','rating'],vocab=reviews_lm_data.train_ds.vocab)\n",
    "                   .split_by_idx(balanced_test_df.index)\n",
    "                   .label_from_func(label_for_reviews)\n",
    "                   .databunch(bs=64))"
   ]
  },
  {
   "cell_type": "code",
   "execution_count": 102,
   "metadata": {},
   "outputs": [
    {
     "data": {
      "text/plain": [
       "[0.0005146769, tensor(1.)]"
      ]
     },
     "execution_count": 102,
     "metadata": {},
     "output_type": "execute_result"
    }
   ],
   "source": [
    "#Validate returns (error rate , accuracy)\n",
    "clas_learner.validate(reviews_cls_test_data.valid_dl)"
   ]
  },
  {
   "cell_type": "code",
   "execution_count": null,
   "metadata": {},
   "outputs": [],
   "source": []
  }
 ],
 "metadata": {
  "kernelspec": {
   "display_name": "Python 3",
   "language": "python",
   "name": "python3"
  },
  "language_info": {
   "codemirror_mode": {
    "name": "ipython",
    "version": 3
   },
   "file_extension": ".py",
   "mimetype": "text/x-python",
   "name": "python",
   "nbconvert_exporter": "python",
   "pygments_lexer": "ipython3",
   "version": "3.7.2"
  }
 },
 "nbformat": 4,
 "nbformat_minor": 2
}
