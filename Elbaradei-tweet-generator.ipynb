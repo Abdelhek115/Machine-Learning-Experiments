{
 "cells": [
  {
   "cell_type": "markdown",
   "metadata": {},
   "source": [
    "# Tweets generation using Arabic ULMFIT model\n",
    "### You can get this dataset using the Twitter API get an API key from [Here](https://developer.twitter.com/en/apply-for-access)\n",
    "The Twitter API allows you to download up to 3,200 of a user's most recent Tweets which we will use for text generation.\n",
    "\n",
    "#### Acknowledgment:\n",
    "> The Idea is inspired by [ElBaradei Quote Generator](http://elbaradei.mandoz.com) by [@mand0z](https://twitter.com/mand0z) "
   ]
  },
  {
   "cell_type": "markdown",
   "metadata": {},
   "source": [
    "For more information about ULMFIT see [Paper](https://arxiv.org/abs/1801.06146) & [Blog post](http://nlp.fast.ai/)."
   ]
  },
  {
   "cell_type": "markdown",
   "metadata": {},
   "source": [
    "### Using our pretrained Arabic ULMFIT language model we do the following:\n",
    "1- Preprocess our dataset and get it ready for use in the coming steps by creating a language model databunch.\n",
    "\n",
    "2- Load our language model with pretrained weights then fine-tune it to our dataset.\n",
    "\n",
    "3- Use our fine-tuned Language model to generate tweets."
   ]
  },
  {
   "cell_type": "code",
   "execution_count": 1,
   "metadata": {},
   "outputs": [],
   "source": [
    "%matplotlib inline\n",
    "%reload_ext autoreload\n",
    "%autoreload 2"
   ]
  },
  {
   "cell_type": "code",
   "execution_count": 2,
   "metadata": {},
   "outputs": [],
   "source": [
    "import path \n",
    "from fastai.text import *\n",
    "import copy"
   ]
  },
  {
   "cell_type": "code",
   "execution_count": 3,
   "metadata": {},
   "outputs": [
    {
     "data": {
      "text/plain": [
       "'1.0.51.dev0'"
      ]
     },
     "execution_count": 3,
     "metadata": {},
     "output_type": "execute_result"
    }
   ],
   "source": [
    "import fastai; fastai.__version__"
   ]
  },
  {
   "cell_type": "code",
   "execution_count": 4,
   "metadata": {},
   "outputs": [],
   "source": [
    "data_path = Path('data')\n",
    "lm_path = Path('.')"
   ]
  },
  {
   "cell_type": "markdown",
   "metadata": {},
   "source": [
    "*create a Dataframe out of the CSV file containing the dowloaded tweets*"
   ]
  },
  {
   "cell_type": "code",
   "execution_count": 7,
   "metadata": {},
   "outputs": [],
   "source": [
    "tweets_df = pd.read_csv(data_path/'timeline.csv',low_memory=False)"
   ]
  },
  {
   "cell_type": "code",
   "execution_count": 8,
   "metadata": {
    "scrolled": true
   },
   "outputs": [
    {
     "data": {
      "text/html": [
       "<div>\n",
       "<style scoped>\n",
       "    .dataframe tbody tr th:only-of-type {\n",
       "        vertical-align: middle;\n",
       "    }\n",
       "\n",
       "    .dataframe tbody tr th {\n",
       "        vertical-align: top;\n",
       "    }\n",
       "\n",
       "    .dataframe thead th {\n",
       "        text-align: right;\n",
       "    }\n",
       "</style>\n",
       "<table border=\"1\" class=\"dataframe\">\n",
       "  <thead>\n",
       "    <tr style=\"text-align: right;\">\n",
       "      <th></th>\n",
       "      <th>id</th>\n",
       "      <th>created_at</th>\n",
       "      <th>text</th>\n",
       "    </tr>\n",
       "  </thead>\n",
       "  <tbody>\n",
       "    <tr>\n",
       "      <th>0</th>\n",
       "      <td>1108793992584548352</td>\n",
       "      <td>Thu Mar 21 18:14:22 +0000 2019</td>\n",
       "      <td>إعلان الرئيس ترمب أنه حان الوقت لإعتراف الولاي...</td>\n",
       "    </tr>\n",
       "    <tr>\n",
       "      <th>1</th>\n",
       "      <td>1108789823433785344</td>\n",
       "      <td>Thu Mar 21 17:57:48 +0000 2019</td>\n",
       "      <td>@realDonaldTrump This, Mr President is a gross...</td>\n",
       "    </tr>\n",
       "    <tr>\n",
       "      <th>2</th>\n",
       "      <td>1108783929417449473</td>\n",
       "      <td>Thu Mar 21 17:34:23 +0000 2019</td>\n",
       "      <td>بدأنا \"بغزوة الصناديق\" وتكفير المعترض؛ ثم بانت...</td>\n",
       "    </tr>\n",
       "    <tr>\n",
       "      <th>3</th>\n",
       "      <td>1108451116034019328</td>\n",
       "      <td>Wed Mar 20 19:31:54 +0000 2019</td>\n",
       "      <td>ينتمي سكان نيوزيلاندا إلى ٢٠٠  أصل عرقي، يتكلم...</td>\n",
       "    </tr>\n",
       "    <tr>\n",
       "      <th>4</th>\n",
       "      <td>1108371822934982656</td>\n",
       "      <td>Wed Mar 20 14:16:49 +0000 2019</td>\n",
       "      <td>مصر التى أعرفها ؛ مصر التسامح، المحبة، الخلق، ...</td>\n",
       "    </tr>\n",
       "  </tbody>\n",
       "</table>\n",
       "</div>"
      ],
      "text/plain": [
       "                    id                      created_at  \\\n",
       "0  1108793992584548352  Thu Mar 21 18:14:22 +0000 2019   \n",
       "1  1108789823433785344  Thu Mar 21 17:57:48 +0000 2019   \n",
       "2  1108783929417449473  Thu Mar 21 17:34:23 +0000 2019   \n",
       "3  1108451116034019328  Wed Mar 20 19:31:54 +0000 2019   \n",
       "4  1108371822934982656  Wed Mar 20 14:16:49 +0000 2019   \n",
       "\n",
       "                                                text  \n",
       "0  إعلان الرئيس ترمب أنه حان الوقت لإعتراف الولاي...  \n",
       "1  @realDonaldTrump This, Mr President is a gross...  \n",
       "2  بدأنا \"بغزوة الصناديق\" وتكفير المعترض؛ ثم بانت...  \n",
       "3  ينتمي سكان نيوزيلاندا إلى ٢٠٠  أصل عرقي، يتكلم...  \n",
       "4  مصر التى أعرفها ؛ مصر التسامح، المحبة، الخلق، ...  "
      ]
     },
     "execution_count": 8,
     "metadata": {},
     "output_type": "execute_result"
    }
   ],
   "source": [
    "tweets_df.head()"
   ]
  },
  {
   "cell_type": "markdown",
   "metadata": {},
   "source": [
    "* Create a Language model databunch that does all the necessary preprocessing like tokenization and numericalization.\n",
    "\n",
    "* All the text in the dataset is concatenated and the labels are ignored. Instead, the target is the next word in the sentence.\n",
    "\n",
    "* We also create a validation set that is 10% of our full dataset (90% train 10% valid)."
   ]
  },
  {
   "cell_type": "code",
   "execution_count": 9,
   "metadata": {},
   "outputs": [],
   "source": [
    "tweets_lm_data = (TextList.from_df(tweets_df,cols='text')\n",
    "                   .split_by_rand_pct(.1)\n",
    "                   .label_for_lm()\n",
    "                   .databunch(bs=64))"
   ]
  },
  {
   "cell_type": "code",
   "execution_count": 10,
   "metadata": {},
   "outputs": [
    {
     "data": {
      "text/html": [
       "<table border=\"1\" class=\"dataframe\">\n",
       "  <thead>\n",
       "    <tr style=\"text-align: right;\">\n",
       "      <th>idx</th>\n",
       "      <th>text</th>\n",
       "    </tr>\n",
       "  </thead>\n",
       "  <tbody>\n",
       "    <tr>\n",
       "      <td>0</td>\n",
       "      <td>التسامح ، xxunk ، xxunk ، xxunk ... xxunk الله مرة أخرى \\n \\n  https : / / t.co / xxunk xxbos xxunk xxmaj but xxup xxunk &amp; &amp; xxup iaea , the xxup un xxunk responsible for xxunk xxunk in xxmaj iraq were right &amp; &amp; clear in their xxunk # ! xxmaj that is why the xxup sc xxunk to xxunk use of force . xxmaj force</td>\n",
       "    </tr>\n",
       "    <tr>\n",
       "      <td>1</td>\n",
       "      <td>، xxunk البدائل المتاحة غير xxunk xxunk فى فترة إنتقالية xxunk xxunk xxunk والتوصل xxunk وطنية ؟ xxunk المسار xxunk دي xxunk أخرى ... xxbos xxup rt xxunk : xxmaj the xxup un said xxmaj israel committed \" serious violations of human rights \" during the xxmaj gaza protests in 2018 . https : / / t.co / xxunk xxbos xxunk أنا بالطبع ضد هذا الكلام البائس على طول xxunk</td>\n",
       "    </tr>\n",
       "    <tr>\n",
       "      <td>2</td>\n",
       "      <td>يناير ؟ xxunk xxunk فوق أنت مصري https : / / t.co / xxunk xxbos xxup rt xxunk : xxunk xxunk as a new member xxmaj dr elbaradei , xxmaj director xxmaj general xxmaj emeritus xxunk , xxmaj nobel xxmaj peace xxmaj prize laureate and the g … xxbos xxup rt xxunk : xxunk xxunk xxunk xxunk xxunk xxunk محمد البرادعي , xxunk العام xxunk xxunk الدولية xxunk xxunk …</td>\n",
       "    </tr>\n",
       "    <tr>\n",
       "      <td>3</td>\n",
       "      <td>xxbos xxup rt xxunk : xxmaj xxunk xxmaj egyptian xxunk elbaradei xxunk that the death xxunk is xxunk ... xxmaj egyptian tv xxunk reports the xxunk by c … xxbos xxup rt @amreda2011 : @elbaradei الأمم المتحدة : xxunk xxunk في مصر xxunk بعد محاكمات xxunk xxunk \\n \\n  https : / / t.co / xxunk xxbos أطالب xxunk إنسانية ( عيش ، حرية ، عدالة xxunk ) ؛</td>\n",
       "    </tr>\n",
       "    <tr>\n",
       "      <td>4</td>\n",
       "      <td>xxunk بكم xxunk الله xxbos النائب أحمد xxunk xxunk بشجاعة xxunk xxunk عن رأى كل من شارك فى ثورة يناير بشأن xxunk الدستورية https : / / t.co / xxunk xxbos xxunk xxunk xxunk xxunk الدكتور xxunk الغزالي حرب عن xxunk xxunk ... xxunk xxunk ... xxunk أن xxunk دون أن xxunk xxunk : لماذا xxunk الى هذا الحد من فقدان xxunk ؟ هل هى xxunk ؟ هل هو xxunk</td>\n",
       "    </tr>\n",
       "  </tbody>\n",
       "</table>"
      ],
      "text/plain": [
       "<IPython.core.display.HTML object>"
      ]
     },
     "metadata": {},
     "output_type": "display_data"
    }
   ],
   "source": [
    "tweets_lm_data.show_batch()"
   ]
  },
  {
   "cell_type": "markdown",
   "metadata": {},
   "source": [
    "*Save our databunch so we can load it instantly later if we want.*"
   ]
  },
  {
   "cell_type": "code",
   "execution_count": 11,
   "metadata": {},
   "outputs": [],
   "source": [
    "tweets_lm_data.save('tweet_gen_lm')"
   ]
  },
  {
   "cell_type": "code",
   "execution_count": 5,
   "metadata": {},
   "outputs": [],
   "source": [
    "tweets_lm_data = load_data(lm_path,'tweet_gen_lm', bs=64)"
   ]
  },
  {
   "cell_type": "markdown",
   "metadata": {},
   "source": [
    "## 2- Fine-tune our LM to our Tweets:"
   ]
  },
  {
   "cell_type": "code",
   "execution_count": 6,
   "metadata": {},
   "outputs": [],
   "source": [
    "pretrained_lm_fname = 'new_lm'\n",
    "pretrained_itos_fname = 'itos'"
   ]
  },
  {
   "cell_type": "markdown",
   "metadata": {},
   "source": [
    "* We will create a uni-directional [QRNN] (https://arxiv.org/abs/1611.01576) that will load our pre-trained language model weights stored in `new_lm.pth` and also load  `itos.pkl`  which contains our id to token mapping.\n",
    "* We also pass it our language model databunch which we will fine-tune our language model to."
   ]
  },
  {
   "cell_type": "code",
   "execution_count": 7,
   "metadata": {},
   "outputs": [
    {
     "data": {
      "text/plain": [
       "{'emb_sz': 400,\n",
       " 'n_hid': 1550,\n",
       " 'n_layers': 3,\n",
       " 'pad_token': 1,\n",
       " 'qrnn': True,\n",
       " 'bidir': False,\n",
       " 'output_p': 0.1,\n",
       " 'hidden_p': 0.15,\n",
       " 'input_p': 0.25,\n",
       " 'embed_p': 0.02,\n",
       " 'weight_p': 0.2,\n",
       " 'tie_weights': True,\n",
       " 'out_bias': True}"
      ]
     },
     "execution_count": 7,
     "metadata": {},
     "output_type": "execute_result"
    }
   ],
   "source": [
    "emb_sz:int = 400\n",
    "nh: int = 1550\n",
    "nl: int = 3\n",
    "\n",
    "#We increase both dropout and regulazition so not to overfit as we have a small number of tweets\n",
    "qrnn_config = copy.deepcopy(awd_lstm_lm_config)\n",
    "dps = dict(output_p=0.35, hidden_p=0.2, input_p=0.3, embed_p=0.04, weight_p=0.25)\n",
    "qrnn_config.update({'emb_sz':emb_sz, 'n_hid':nh, 'n_layers':nl, 'pad_token':1, 'qrnn':True})\n",
    "\n",
    "rnn_alpha: float = 3  # activation regularization (AR)\n",
    "rnn_beta: float = 2  # temporal activation regularization (TAR)\n",
    "drop_mult: float = 0.5\n",
    "trn_args = dict(alpha=rnn_alpha, beta=rnn_beta,drop_mult=drop_mult)\n",
    "\n",
    "qrnn_config"
   ]
  },
  {
   "cell_type": "code",
   "execution_count": 8,
   "metadata": {},
   "outputs": [],
   "source": [
    "lm_learner = language_model_learner(tweets_lm_data, AWD_LSTM,config=qrnn_config, model_dir=lm_path, pretrained=False,pretrained_fnames=(pretrained_lm_fname,pretrained_itos_fname),**trn_args)"
   ]
  },
  {
   "cell_type": "code",
   "execution_count": 22,
   "metadata": {},
   "outputs": [
    {
     "data": {
      "text/html": [],
      "text/plain": [
       "<IPython.core.display.HTML object>"
      ]
     },
     "metadata": {},
     "output_type": "display_data"
    },
    {
     "name": "stdout",
     "output_type": "stream",
     "text": [
      "LR Finder is complete, type {learner_name}.recorder.plot() to see the graph.\n"
     ]
    }
   ],
   "source": [
    "lm_learner.lr_find(start_lr = slice(10e-7,10e-5),end_lr=slice(0.1,10))"
   ]
  },
  {
   "cell_type": "code",
   "execution_count": 23,
   "metadata": {},
   "outputs": [
    {
     "data": {
      "image/png": "[encoded data removed]",
      "text/plain": [
       "<Figure size 432x288 with 1 Axes>"
      ]
     },
     "metadata": {
      "needs_background": "light"
     },
     "output_type": "display_data"
    }
   ],
   "source": [
    "lm_learner.recorder.plot(skip_end=10)"
   ]
  },
  {
   "cell_type": "markdown",
   "metadata": {},
   "source": [
    "*We train our model starting from the last layer then unfreezing the model and training the entire network*"
   ]
  },
  {
   "cell_type": "code",
   "execution_count": 24,
   "metadata": {},
   "outputs": [
    {
     "data": {
      "text/html": [
       "Total time: 00:00 <p><table style='width:375px; margin-bottom:10px'>\n",
       "  <tr>\n",
       "    <th>epoch</th>\n",
       "    <th>train_loss</th>\n",
       "    <th>valid_loss</th>\n",
       "    <th>accuracy</th>\n",
       "    <th>time</th>\n",
       "  </tr>\n",
       "  <tr>\n",
       "    <th>0</th>\n",
       "    <th>8.239942</th>\n",
       "    <th>5.506410</th>\n",
       "    <th>0.294196</th>\n",
       "    <th>00:00</th>\n",
       "  </tr>\n",
       "</table>\n"
      ],
      "text/plain": [
       "<IPython.core.display.HTML object>"
      ]
     },
     "metadata": {},
     "output_type": "display_data"
    }
   ],
   "source": [
    "lm_learner.fit_one_cycle(1,3e-2)"
   ]
  },
  {
   "cell_type": "code",
   "execution_count": 25,
   "metadata": {},
   "outputs": [],
   "source": [
    "lm_learner.save('stage1-lm-1epoch')"
   ]
  },
  {
   "cell_type": "code",
   "execution_count": 10,
   "metadata": {},
   "outputs": [],
   "source": [
    "lm_learner.unfreeze()"
   ]
  },
  {
   "cell_type": "code",
   "execution_count": 27,
   "metadata": {},
   "outputs": [
    {
     "data": {
      "text/html": [
       "Total time: 00:04 <p><table style='width:375px; margin-bottom:10px'>\n",
       "  <tr>\n",
       "    <th>epoch</th>\n",
       "    <th>train_loss</th>\n",
       "    <th>valid_loss</th>\n",
       "    <th>accuracy</th>\n",
       "    <th>time</th>\n",
       "  </tr>\n",
       "  <tr>\n",
       "    <th>0</th>\n",
       "    <th>6.304472</th>\n",
       "    <th>5.032933</th>\n",
       "    <th>0.306920</th>\n",
       "    <th>00:00</th>\n",
       "  </tr>\n",
       "  <tr>\n",
       "    <th>1</th>\n",
       "    <th>5.821515</th>\n",
       "    <th>4.553542</th>\n",
       "    <th>0.330134</th>\n",
       "    <th>00:00</th>\n",
       "  </tr>\n",
       "  <tr>\n",
       "    <th>2</th>\n",
       "    <th>5.452939</th>\n",
       "    <th>4.388551</th>\n",
       "    <th>0.336049</th>\n",
       "    <th>00:00</th>\n",
       "  </tr>\n",
       "  <tr>\n",
       "    <th>3</th>\n",
       "    <th>5.206630</th>\n",
       "    <th>4.316796</th>\n",
       "    <th>0.338504</th>\n",
       "    <th>00:00</th>\n",
       "  </tr>\n",
       "  <tr>\n",
       "    <th>4</th>\n",
       "    <th>5.039281</th>\n",
       "    <th>4.306491</th>\n",
       "    <th>0.339063</th>\n",
       "    <th>00:00</th>\n",
       "  </tr>\n",
       "</table>\n"
      ],
      "text/plain": [
       "<IPython.core.display.HTML object>"
      ]
     },
     "metadata": {},
     "output_type": "display_data"
    }
   ],
   "source": [
    "lm_learner.fit_one_cycle(5,3e-2)"
   ]
  },
  {
   "cell_type": "code",
   "execution_count": 29,
   "metadata": {},
   "outputs": [],
   "source": [
    "lm_learner.save('stage2-lm-5epochs')"
   ]
  },
  {
   "cell_type": "code",
   "execution_count": 30,
   "metadata": {},
   "outputs": [
    {
     "data": {
      "text/html": [
       "Total time: 00:09 <p><table style='width:375px; margin-bottom:10px'>\n",
       "  <tr>\n",
       "    <th>epoch</th>\n",
       "    <th>train_loss</th>\n",
       "    <th>valid_loss</th>\n",
       "    <th>accuracy</th>\n",
       "    <th>time</th>\n",
       "  </tr>\n",
       "  <tr>\n",
       "    <th>0</th>\n",
       "    <th>4.647152</th>\n",
       "    <th>4.276031</th>\n",
       "    <th>0.343973</th>\n",
       "    <th>00:00</th>\n",
       "  </tr>\n",
       "  <tr>\n",
       "    <th>1</th>\n",
       "    <th>4.609703</th>\n",
       "    <th>4.180850</th>\n",
       "    <th>0.347210</th>\n",
       "    <th>00:00</th>\n",
       "  </tr>\n",
       "  <tr>\n",
       "    <th>2</th>\n",
       "    <th>4.574903</th>\n",
       "    <th>4.175694</th>\n",
       "    <th>0.341295</th>\n",
       "    <th>00:00</th>\n",
       "  </tr>\n",
       "  <tr>\n",
       "    <th>3</th>\n",
       "    <th>4.517171</th>\n",
       "    <th>4.138391</th>\n",
       "    <th>0.343862</th>\n",
       "    <th>00:00</th>\n",
       "  </tr>\n",
       "  <tr>\n",
       "    <th>4</th>\n",
       "    <th>4.438974</th>\n",
       "    <th>4.021618</th>\n",
       "    <th>0.357589</th>\n",
       "    <th>00:00</th>\n",
       "  </tr>\n",
       "  <tr>\n",
       "    <th>5</th>\n",
       "    <th>4.345849</th>\n",
       "    <th>4.001579</th>\n",
       "    <th>0.353460</th>\n",
       "    <th>00:00</th>\n",
       "  </tr>\n",
       "  <tr>\n",
       "    <th>6</th>\n",
       "    <th>4.246330</th>\n",
       "    <th>3.953297</th>\n",
       "    <th>0.363281</th>\n",
       "    <th>00:00</th>\n",
       "  </tr>\n",
       "  <tr>\n",
       "    <th>7</th>\n",
       "    <th>4.146685</th>\n",
       "    <th>3.947753</th>\n",
       "    <th>0.364509</th>\n",
       "    <th>00:00</th>\n",
       "  </tr>\n",
       "  <tr>\n",
       "    <th>8</th>\n",
       "    <th>4.056401</th>\n",
       "    <th>3.937531</th>\n",
       "    <th>0.361161</th>\n",
       "    <th>00:00</th>\n",
       "  </tr>\n",
       "  <tr>\n",
       "    <th>9</th>\n",
       "    <th>3.987862</th>\n",
       "    <th>3.933597</th>\n",
       "    <th>0.361942</th>\n",
       "    <th>00:00</th>\n",
       "  </tr>\n",
       "</table>\n"
      ],
      "text/plain": [
       "<IPython.core.display.HTML object>"
      ]
     },
     "metadata": {},
     "output_type": "display_data"
    }
   ],
   "source": [
    "lm_learner.fit_one_cycle(10,3e-2)"
   ]
  },
  {
   "cell_type": "code",
   "execution_count": 31,
   "metadata": {},
   "outputs": [],
   "source": [
    "lm_learner.save('stage2-lm-15epochs')"
   ]
  },
  {
   "cell_type": "markdown",
   "metadata": {},
   "source": [
    "**This is just for fun and as a proof of concept, it needs more research from me on text generation and also needs more data so waiting for more `@ElBaradei` Tweets :D**"
   ]
  },
  {
   "cell_type": "code",
   "execution_count": 12,
   "metadata": {},
   "outputs": [],
   "source": [
    "text = \"الشاورما السوري\"\n",
    "n_words = 10"
   ]
  },
  {
   "cell_type": "code",
   "execution_count": 15,
   "metadata": {},
   "outputs": [
    {
     "data": {
      "text/plain": [
       "'الشاورما السوري هى عدالة لا تقوم على مستوى معهم أن نعرف لا'"
      ]
     },
     "execution_count": 15,
     "metadata": {},
     "output_type": "execute_result"
    }
   ],
   "source": [
    "lm_learner.predict(text, n_words)"
   ]
  }
 ],
 "metadata": {
  "kernelspec": {
   "display_name": "Python 3",
   "language": "python",
   "name": "python3"
  },
  "language_info": {
   "codemirror_mode": {
    "name": "ipython",
    "version": 3
   },
   "file_extension": ".py",
   "mimetype": "text/x-python",
   "name": "python",
   "nbconvert_exporter": "python",
   "pygments_lexer": "ipython3",
   "version": "3.7.2"
  }
 },
 "nbformat": 4,
 "nbformat_minor": 2
}
