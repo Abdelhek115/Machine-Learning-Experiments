{
 "cells": [
  {
   "cell_type": "markdown",
   "metadata": {},
   "source": [
    "# Hotel reviews classification using Arabic ULMFIT model\n",
    "### You can get this dataset from https://github.com/elnagara/HARD-Arabic-Dataset .\n",
    "This dataset contains 93700 hotel reviews in Arabic language. The hotel reviews were collected from Booking.com website during June/July 2016. The reviews are expressed in Modern Standard Arabic as well as dialectal Arabic. \n",
    "##### *Citation*:\n",
    "> Elnagar A., Khalifa Y.S., Einea A. (2018) Hotel Arabic-Reviews Dataset Construction for Sentiment Analysis Applications. \n",
    "In: Shaalan K., Hassanien A., Tolba F. (eds) Intelligent Natural Language Processing: Trends and Applications. \n",
    "Studies in Computational Intelligence, vol 740, pp: 35-52. Springer International Publishing. \n",
    "doi=\"10.1007/978-3-319-67056-0_3. url=\"https://doi.org/10.1007/978-3-319-67056-0_3\""
   ]
  },
  {
   "cell_type": "markdown",
   "metadata": {},
   "source": [
    "For more information about ULMFIT see [Paper](https://arxiv.org/abs/1801.06146) & [Blog post](http://nlp.fast.ai/)."
   ]
  },
  {
   "cell_type": "markdown",
   "metadata": {},
   "source": [
    "### Using our pretrained Arabic ULMFIT language model we do the following:\n",
    "1- Preprocess our dataset and get it ready for use in the coming steps by creating a language model databunch & classifer databunch.\n",
    "\n",
    "2- Load our language model with pretrained weights then fine-tune it to our dataset.\n",
    "\n",
    "3- Create a classifier on top of the encoder of the language model."
   ]
  },
  {
   "cell_type": "code",
   "execution_count": 2,
   "metadata": {},
   "outputs": [],
   "source": [
    "%matplotlib inline\n",
    "%reload_ext autoreload\n",
    "%autoreload 2"
   ]
  },
  {
   "cell_type": "code",
   "execution_count": 3,
   "metadata": {},
   "outputs": [],
   "source": [
    "from fastai.text import *\n",
    "import path\n",
    "import copy"
   ]
  },
  {
   "cell_type": "code",
   "execution_count": 4,
   "metadata": {},
   "outputs": [
    {
     "data": {
      "text/plain": [
       "'1.0.51.dev0'"
      ]
     },
     "execution_count": 4,
     "metadata": {},
     "output_type": "execute_result"
    }
   ],
   "source": [
    "#Latest dev version of fastai in order to get some fixes for QRNNs\n",
    "import fastai; fastai.__version__"
   ]
  },
  {
   "cell_type": "code",
   "execution_count": 80,
   "metadata": {},
   "outputs": [],
   "source": [
    "data_path = Path('data')\n",
    "lm_path = Path('.')"
   ]
  },
  {
   "cell_type": "markdown",
   "metadata": {},
   "source": [
    "### 1- Pre-processing our Dataset :"
   ]
  },
  {
   "cell_type": "markdown",
   "metadata": {},
   "source": [
    "**This notebook uses the unbalanced reviews file (13% neg, 19% ntl, 68% pos),  you can find the notebook that uses the balanced reviews in the same github repo.**"
   ]
  },
  {
   "cell_type": "code",
   "execution_count": 5,
   "metadata": {},
   "outputs": [],
   "source": [
    "unbalanced_df = pd.read_csv(data_path/'unbalanced-reviews.txt',delimiter='\\t',encoding='utf_16_le')"
   ]
  },
  {
   "cell_type": "code",
   "execution_count": 6,
   "metadata": {},
   "outputs": [
    {
     "data": {
      "text/html": [
       "<div>\n",
       "<style scoped>\n",
       "    .dataframe tbody tr th:only-of-type {\n",
       "        vertical-align: middle;\n",
       "    }\n",
       "\n",
       "    .dataframe tbody tr th {\n",
       "        vertical-align: top;\n",
       "    }\n",
       "\n",
       "    .dataframe thead th {\n",
       "        text-align: right;\n",
       "    }\n",
       "</style>\n",
       "<table border=\"1\" class=\"dataframe\">\n",
       "  <thead>\n",
       "    <tr style=\"text-align: right;\">\n",
       "      <th></th>\n",
       "      <th>no</th>\n",
       "      <th>Hotel name</th>\n",
       "      <th>rating</th>\n",
       "      <th>user type</th>\n",
       "      <th>room type</th>\n",
       "      <th>nights</th>\n",
       "      <th>review</th>\n",
       "    </tr>\n",
       "  </thead>\n",
       "  <tbody>\n",
       "    <tr>\n",
       "      <th>0</th>\n",
       "      <td>1</td>\n",
       "      <td>فندق 72</td>\n",
       "      <td>4</td>\n",
       "      <td>زوج</td>\n",
       "      <td>غرفة قياسية مزدوجة</td>\n",
       "      <td>أقمت ليلة واحدة</td>\n",
       "      <td>“فندق راقي وسوف تتكرر زيارتي له”. الفندق بصراح...</td>\n",
       "    </tr>\n",
       "    <tr>\n",
       "      <th>1</th>\n",
       "      <td>2</td>\n",
       "      <td>فندق 72</td>\n",
       "      <td>2</td>\n",
       "      <td>مسافر منفرد</td>\n",
       "      <td>غرفة ديلوكس مزدوجة أو توأم</td>\n",
       "      <td>أقمت ليلة واحدة</td>\n",
       "      <td>“ممتاز”. النظافة والطاقم متعاون.</td>\n",
       "    </tr>\n",
       "    <tr>\n",
       "      <th>2</th>\n",
       "      <td>3</td>\n",
       "      <td>فندق 72</td>\n",
       "      <td>5</td>\n",
       "      <td>زوج</td>\n",
       "      <td>غرفة ديلوكس مزدوجة أو توأم</td>\n",
       "      <td>أقمت ليلة واحدة</td>\n",
       "      <td>استثنائي. سهولة إنهاء المعاملة في الاستقبال. ل...</td>\n",
       "    </tr>\n",
       "    <tr>\n",
       "      <th>3</th>\n",
       "      <td>4</td>\n",
       "      <td>فندق 72</td>\n",
       "      <td>4</td>\n",
       "      <td>زوج</td>\n",
       "      <td>غرفة قياسية مزدوجة</td>\n",
       "      <td>أقمت ليلة واحدة</td>\n",
       "      <td>جيد جداً. 😊👍. لايوجد</td>\n",
       "    </tr>\n",
       "    <tr>\n",
       "      <th>4</th>\n",
       "      <td>5</td>\n",
       "      <td>فندق 72</td>\n",
       "      <td>5</td>\n",
       "      <td>زوج</td>\n",
       "      <td>غرفة ديلوكس مزدوجة أو توأم</td>\n",
       "      <td>أقمت ليلة واحدة</td>\n",
       "      <td>“الحمدلله رب العالمين كان يوم جميل قضيناه في ا...</td>\n",
       "    </tr>\n",
       "  </tbody>\n",
       "</table>\n",
       "</div>"
      ],
      "text/plain": [
       "   no Hotel name  rating    user type                   room type  \\\n",
       "0   1    فندق 72       4          زوج          غرفة قياسية مزدوجة   \n",
       "1   2    فندق 72       2  مسافر منفرد  غرفة ديلوكس مزدوجة أو توأم   \n",
       "2   3    فندق 72       5          زوج  غرفة ديلوكس مزدوجة أو توأم   \n",
       "3   4    فندق 72       4          زوج          غرفة قياسية مزدوجة   \n",
       "4   5    فندق 72       5          زوج  غرفة ديلوكس مزدوجة أو توأم   \n",
       "\n",
       "            nights                                             review  \n",
       "0  أقمت ليلة واحدة  “فندق راقي وسوف تتكرر زيارتي له”. الفندق بصراح...  \n",
       "1  أقمت ليلة واحدة                  “ممتاز”. النظافة والطاقم متعاون.   \n",
       "2  أقمت ليلة واحدة  استثنائي. سهولة إنهاء المعاملة في الاستقبال. ل...  \n",
       "3  أقمت ليلة واحدة                               جيد جداً. 😊👍. لايوجد  \n",
       "4  أقمت ليلة واحدة  “الحمدلله رب العالمين كان يوم جميل قضيناه في ا...  "
      ]
     },
     "execution_count": 6,
     "metadata": {},
     "output_type": "execute_result"
    }
   ],
   "source": [
    "unbalanced_df.head()"
   ]
  },
  {
   "cell_type": "code",
   "execution_count": 7,
   "metadata": {},
   "outputs": [
    {
     "data": {
      "text/plain": [
       "(409562, 7)"
      ]
     },
     "execution_count": 7,
     "metadata": {},
     "output_type": "execute_result"
    }
   ],
   "source": [
    "unbalanced_df.shape"
   ]
  },
  {
   "cell_type": "markdown",
   "metadata": {},
   "source": [
    "*Create A held-out test dataset using 10% of our full dataset. and drop it from the full dataset.*"
   ]
  },
  {
   "cell_type": "code",
   "execution_count": 8,
   "metadata": {},
   "outputs": [],
   "source": [
    "test_df = unbalanced_df.sample(frac = .1 ,replace=False,random_state = 42)"
   ]
  },
  {
   "cell_type": "code",
   "execution_count": 9,
   "metadata": {},
   "outputs": [
    {
     "data": {
      "text/plain": [
       "(368606, 7)"
      ]
     },
     "execution_count": 9,
     "metadata": {},
     "output_type": "execute_result"
    }
   ],
   "source": [
    "unbalanced_df = unbalanced_df.drop(test_df.index)\n",
    "unbalanced_df.shape"
   ]
  },
  {
   "cell_type": "markdown",
   "metadata": {},
   "source": [
    "*Create 2 csv files containing our train/valid and our test datasets.*"
   ]
  },
  {
   "cell_type": "code",
   "execution_count": 11,
   "metadata": {},
   "outputs": [],
   "source": [
    "test_df.to_csv(data_path/'unbalanced_reviews_test.csv',index=False)"
   ]
  },
  {
   "cell_type": "code",
   "execution_count": 12,
   "metadata": {},
   "outputs": [],
   "source": [
    "unbalanced_df.to_csv(data_path/'unbalanced_reviews_train.csv',index=False)"
   ]
  },
  {
   "cell_type": "code",
   "execution_count": 82,
   "metadata": {},
   "outputs": [],
   "source": [
    "unbalanced_train_df = pd.read_csv(data_path/'unbalanced_reviews_train.csv')"
   ]
  },
  {
   "cell_type": "code",
   "execution_count": 81,
   "metadata": {},
   "outputs": [],
   "source": [
    "unbalanced_test_df = pd.read_csv(data_path/'unbalanced_reviews_test.csv')"
   ]
  },
  {
   "cell_type": "markdown",
   "metadata": {},
   "source": [
    "* Create a Language model databunch that does all the necessary preprocessing like tokenization and numericalization.\n",
    "\n",
    "* All the text in the dataset is concatenated and the labels are ignored. Instead, the target is the next word in the sentence.\n",
    "\n",
    "* We also create a validation set that is 10% of our full dataset (80% train 10% valid 10% test)."
   ]
  },
  {
   "cell_type": "code",
   "execution_count": 16,
   "metadata": {},
   "outputs": [],
   "source": [
    "reviews_lm_data = (TextList.from_df(unbalanced_train_df,cols=['review'])\n",
    "                   .split_by_rand_pct(.1)\n",
    "                   .label_for_lm()\n",
    "                   .databunch(bs=64))"
   ]
  },
  {
   "cell_type": "code",
   "execution_count": 17,
   "metadata": {},
   "outputs": [
    {
     "data": {
      "text/html": [
       "<table border=\"1\" class=\"dataframe\">\n",
       "  <thead>\n",
       "    <tr style=\"text-align: right;\">\n",
       "      <th>idx</th>\n",
       "      <th>text</th>\n",
       "    </tr>\n",
       "  </thead>\n",
       "  <tbody>\n",
       "    <tr>\n",
       "      <td>0</td>\n",
       "      <td>جدا انا اعتبره شقق راقيه جدا اكثر من فندق . لاشئ بصراحه الا ملاحظه واحدة اني شاهدة xxunk ( حشرة ) صغيره جدا علي الارض هذي الملاحظة الوحيدة فقط ولا الغرفه عموم نظيفة ولا شفنا فيها اي شي xxbos “ ممتاز ” . النظافة والطاقم متعاون . xxbos استثنائي . سهولة إنهاء المعاملة في الاستقبال . لاشيئ xxbos جيد جداً. 😊 👍 . لايوجد xxbos “ الحمدلله رب العالمين كان</td>\n",
       "    </tr>\n",
       "    <tr>\n",
       "      <td>1</td>\n",
       "      <td>xxunk من خارج xxunk إلى أن أدخل xxunk xxunk أنتظر حتى يسألني أحدهم لماذا تريد العربة . كل شيء xxbos “ غير راضي ” . . مكان سيئ وغير نظيف والصورة المعروضة في الموقع غير الواقع xxbos ضعيف جداً. لا شيء . كل شي ، ، تجربة سيئة لن تتكرر xxbos “ جيده جدا ” . . مياه xxunk ساخنه جدا xxbos ضعيف جداً. . عدم تعاملهم بالرد على الاتصالات</td>\n",
       "    </tr>\n",
       "    <tr>\n",
       "      <td>2</td>\n",
       "      <td>. النظافة ضعيفة xxbos “ اجازة نهاية الاسبوع في قصر الحمرا ” . * الاطلالة على البحر * الموقع . الغرف الواسعة .. * السجادات الموجودة في الصالة وغرف النوم غير نظيفة . * صنابير المياه ومغاسل الحمامات معطلة . * مفاتيح الابواب الخاصة بالبلكونة غير موجودة ، الباب الخاص بالبلكونة في غرفة النوم معطل . * عدم توفر xxunk في الغرف . * الكواية معطلة . * xxunk كنترول</td>\n",
       "    </tr>\n",
       "    <tr>\n",
       "      <td>3</td>\n",
       "      <td>اغلبية الفنادق التى تقدم هذه الخدمة مجانا داخل الغرف وهو الامر الذى تسبب لنا xxunk xxunk xxbos “ هذا الفندق لا يستحق ان يكون خمسة نجوم ” . سعر العرض . رائحة الغرفة من الموكيت . وايضا رائحة المخدات سيئة xxbos مقبول . القرب من الحرموجود xxunk الغرف ممتازفي الاستقبال شاب لطيف جدا اسمه أحمد . مع كبر الفندق والزحمة المصاعد تعتبر قليلةعدم حضور حامل الحقائب واضطررت لحمل الحقائب من</td>\n",
       "    </tr>\n",
       "    <tr>\n",
       "      <td>4</td>\n",
       "      <td>فندق ٥ ستار ولايوجد به انترنت مجاني ! ! ! المناشف قديمة جدا ! ! xxbos ممتاز . الراحه تامه ولايوجد ازعاج . الحمام غير مرتب xxbos جيد . القرب من الحرم . تغير المصاعد ولا يوجد عزل صوت بين الغرف xxbos جيد . . عندما حجزت في الصورة كان هناك ٤ اسرة ولكن في الواقع اصبحت ٢ xxbos “ جيد ولكن مبالغ في السعر ” . الهدوء وسهولة الوصول</td>\n",
       "    </tr>\n",
       "  </tbody>\n",
       "</table>"
      ],
      "text/plain": [
       "<IPython.core.display.HTML object>"
      ]
     },
     "metadata": {},
     "output_type": "display_data"
    }
   ],
   "source": [
    "reviews_lm_data.show_batch()"
   ]
  },
  {
   "cell_type": "markdown",
   "metadata": {},
   "source": [
    "*Save our databunch so we can load it instantly later if we want.*"
   ]
  },
  {
   "cell_type": "code",
   "execution_count": 18,
   "metadata": {},
   "outputs": [],
   "source": [
    "reviews_lm_data.save('unbalanced_reviews_lm')"
   ]
  },
  {
   "cell_type": "code",
   "execution_count": 19,
   "metadata": {},
   "outputs": [],
   "source": [
    "reviews_lm_data = load_data(lm_path,'unbalanced_reviews_lm')"
   ]
  },
  {
   "cell_type": "markdown",
   "metadata": {},
   "source": [
    "* Create a classification databunch that does all the necessary preprocessing like tokenization and numericalization.\n",
    "* We map the rating to labels ('pos' , 'neg' or 'ntl').\n",
    "* We also pass the vocabulary (mapping from ids to words) that we want to use to ensure that our classification databunch will use the same dictionary as our language model databunch."
   ]
  },
  {
   "cell_type": "code",
   "execution_count": 20,
   "metadata": {},
   "outputs": [],
   "source": [
    "label_for_reviews = lambda x: 'neg' if(x[1] < 3) else ('pos' if x[1] > 3 else 'ntl')"
   ]
  },
  {
   "cell_type": "code",
   "execution_count": 21,
   "metadata": {},
   "outputs": [],
   "source": [
    "reviews_cls_data = (TextList.from_df(unbalanced_train_df,cols=['review','rating'],vocab=reviews_lm_data.train_ds.vocab)\n",
    "                   .split_by_rand_pct(.1)\n",
    "                   .label_from_func(label_for_reviews)\n",
    "                   .databunch(bs=64))"
   ]
  },
  {
   "cell_type": "code",
   "execution_count": 22,
   "metadata": {},
   "outputs": [
    {
     "data": {
      "text/html": [
       "<table border=\"1\" class=\"dataframe\">\n",
       "  <thead>\n",
       "    <tr style=\"text-align: right;\">\n",
       "      <th>text</th>\n",
       "      <th>target</th>\n",
       "    </tr>\n",
       "  </thead>\n",
       "  <tbody>\n",
       "    <tr>\n",
       "      <td>xxbos جيد . كل شي أعجبني ما عدا ان هناك ان المصري اللي أسمه أحمد وقام بأقفال حجوزات البوكينج ووضع الفندق محجوز بالكامل وعندما أردت التجديد ليوم واحد قال لي عن طريق البوكينج وحاولت الحجز عن طريق البوكنج ووجدت أن الفندق محجوز بالكامل ورفضت الخروج وقال لي تدفع زيادة في السعر أكثر من 200 % والا تغادر فرفضت وجلست في الفندق إلى اليوم التالي ولم أجد اي نزلاء جدد وكانت</td>\n",
       "      <td>pos</td>\n",
       "    </tr>\n",
       "    <tr>\n",
       "      <td>xxbos “ الشاليهات ممتعة ” . الشاليهات فيها خصوصية جميلة ، منطقة البحر الخاصة بك ، وقربها من الشاليه ، تستطيع رؤية xxunk أثناء xxunk في البحر من صالة الشاليه بكل وضوح .. باحة الشاليه أو التراس واسعة وفيها جلسة خارجية جميلة ، xxunk كبيرة ، وحولك xxunk أضفت للمكان xxunk فيها كل شيء xxunk ماركت ، كوفي ، محل xxunk بالمرافق الممتعة : ألعاب الأطفال ، دراجات ، دبابات</td>\n",
       "      <td>pos</td>\n",
       "    </tr>\n",
       "    <tr>\n",
       "      <td>xxbos حسن . الفندق يقع في موقع ممتاز على كورنيش العاصمة الحبيبة أبوظبي . الفندق مصنف من فئة خمس نجوم ولكن للأسف الشديد حصلت لي بعض المواقف ومنها : أثناء وصولي إلى قسم الاستقبال قبل البدء بالحجز سألت الموظف عن نوعية الغرف وكان رده أنه ليس لديه علم xxunk الموضحة في booking وبعدها مباشرة تم الحجز عن طريق الموقع المذكور وبعد الانتهاء منه ذهبت مرة أخرى لموظف الاستقبال لإجراء إجراءات</td>\n",
       "      <td>ntl</td>\n",
       "    </tr>\n",
       "    <tr>\n",
       "      <td>xxbos “ اسوأ تجربه في حياتي دتخل المملكة وخارجها ” . لم احب في هذا الفندق الا القرب من الحرم و وجبة الافطار وكان عندهم عرض ع السعر فقططط واحذر الجميع من السكن فيه . عدة امور ضايقتني في هذا الفندق السيء # الدخول للغرفة استغرق اكثر من ساعتين وتفاجئت ان وضعي افضل من غيري xxunk جلس ينتظر اكثر من ذلك # مواقف السيارات ليست مجانية ولم يذكر ذلك في</td>\n",
       "      <td>ntl</td>\n",
       "    </tr>\n",
       "    <tr>\n",
       "      <td>xxbos “ جدا متعب خاصة الصعود والنزول للحرم وماكان نظيف مرة .. لن اعود إليه مجددا بالتأكيد ” . لم يكن هناك شي مميز . كنت انا وامي فقط لكن لم اجد مايناسب ذلك من الخيارات السابقة .. يبدو اننا خدعنا بمظهر الفندق فقد كان على طلعة جبل وهذا لم يكن واضح والا لم أكن xxunk هناك خاصة مع وضع امي الصحي فقد xxunk كثيرا xxunk للرسيبشن xxunk xxunk لأصحاب</td>\n",
       "      <td>neg</td>\n",
       "    </tr>\n",
       "  </tbody>\n",
       "</table>"
      ],
      "text/plain": [
       "<IPython.core.display.HTML object>"
      ]
     },
     "metadata": {},
     "output_type": "display_data"
    }
   ],
   "source": [
    "reviews_cls_data.show_batch()"
   ]
  },
  {
   "cell_type": "code",
   "execution_count": 23,
   "metadata": {},
   "outputs": [],
   "source": [
    "reviews_cls_data.save('unbalanced_reviews_cls')"
   ]
  },
  {
   "cell_type": "code",
   "execution_count": 24,
   "metadata": {},
   "outputs": [],
   "source": [
    "reviews_cls_data = load_data(lm_path,'unbalanced_reviews_cls')"
   ]
  },
  {
   "cell_type": "markdown",
   "metadata": {},
   "source": [
    "## 2- Fine-tune our LM to our Dataset:"
   ]
  },
  {
   "cell_type": "code",
   "execution_count": 25,
   "metadata": {},
   "outputs": [],
   "source": [
    "pretrained_lm_fname = 'new_lm'\n",
    "pretrained_itos_fname = 'itos'"
   ]
  },
  {
   "cell_type": "markdown",
   "metadata": {},
   "source": [
    "* We will create a uni-directional [QRNN] (https://arxiv.org/abs/1611.01576) that will load our pre-trained language model weights stored in `new_lm.pth` and also load  `itos.pkl`  which contains our id to token mapping.\n",
    "* We also pass it our language model databunch which we will fine-tune our language model to."
   ]
  },
  {
   "cell_type": "code",
   "execution_count": 26,
   "metadata": {
    "scrolled": true
   },
   "outputs": [
    {
     "data": {
      "text/plain": [
       "{'emb_sz': 400,\n",
       " 'n_hid': 1550,\n",
       " 'n_layers': 3,\n",
       " 'pad_token': 1,\n",
       " 'qrnn': True,\n",
       " 'bidir': False,\n",
       " 'output_p': 0.1,\n",
       " 'hidden_p': 0.15,\n",
       " 'input_p': 0.25,\n",
       " 'embed_p': 0.02,\n",
       " 'weight_p': 0.2,\n",
       " 'tie_weights': True,\n",
       " 'out_bias': True}"
      ]
     },
     "execution_count": 26,
     "metadata": {},
     "output_type": "execute_result"
    }
   ],
   "source": [
    "emb_sz:int = 400\n",
    "nh: int = 1550\n",
    "nl: int = 3\n",
    "\n",
    "qrnn_config = copy.deepcopy(awd_lstm_lm_config)\n",
    "dps = dict(output_p=0.25, hidden_p=0.1, input_p=0.2, embed_p=0.02, weight_p=0.15)\n",
    "qrnn_config.update({'emb_sz':emb_sz, 'n_hid':nh, 'n_layers':nl, 'pad_token':1, 'qrnn':True})\n",
    "qrnn_config"
   ]
  },
  {
   "cell_type": "code",
   "execution_count": 27,
   "metadata": {},
   "outputs": [],
   "source": [
    "lm_learner = language_model_learner(reviews_lm_data,AWD_LSTM,pretrained=False,config=qrnn_config, model_dir=lm_path,drop_mult=.3,pretrained_fnames=(pretrained_lm_fname,pretrained_itos_fname))"
   ]
  },
  {
   "cell_type": "code",
   "execution_count": 29,
   "metadata": {},
   "outputs": [
    {
     "data": {
      "text/html": [],
      "text/plain": [
       "<IPython.core.display.HTML object>"
      ]
     },
     "metadata": {},
     "output_type": "display_data"
    },
    {
     "name": "stdout",
     "output_type": "stream",
     "text": [
      "LR Finder is complete, type {learner_name}.recorder.plot() to see the graph.\n"
     ]
    }
   ],
   "source": [
    "lm_learner.lr_find(start_lr = slice(10e-7,10e-5),end_lr=slice(0.1,10))"
   ]
  },
  {
   "cell_type": "code",
   "execution_count": 30,
   "metadata": {
    "scrolled": true
   },
   "outputs": [
    {
     "data": {
      "image/png": "[encoded data removed]",
      "text/plain": [
       "<Figure size 432x288 with 1 Axes>"
      ]
     },
     "metadata": {
      "needs_background": "light"
     },
     "output_type": "display_data"
    }
   ],
   "source": [
    "lm_learner.recorder.plot(skip_end=10)"
   ]
  },
  {
   "cell_type": "code",
   "execution_count": 31,
   "metadata": {},
   "outputs": [],
   "source": [
    "lm_learner.metrics = [accuracy,Perplexity()]"
   ]
  },
  {
   "cell_type": "markdown",
   "metadata": {},
   "source": [
    "*We train our model starting from the last layer then unfreezing the model and training the entire network*"
   ]
  },
  {
   "cell_type": "code",
   "execution_count": 32,
   "metadata": {},
   "outputs": [
    {
     "data": {
      "text/html": [
       "Total time: 05:38 <p><table style='width:450px; margin-bottom:10px'>\n",
       "  <tr>\n",
       "    <th>epoch</th>\n",
       "    <th>train_loss</th>\n",
       "    <th>valid_loss</th>\n",
       "    <th>accuracy</th>\n",
       "    <th>perplexity</th>\n",
       "    <th>time</th>\n",
       "  </tr>\n",
       "  <tr>\n",
       "    <th>0</th>\n",
       "    <th>5.536251</th>\n",
       "    <th>5.103558</th>\n",
       "    <th>0.238418</th>\n",
       "    <th>164.606781</th>\n",
       "    <th>05:38</th>\n",
       "  </tr>\n",
       "</table>\n"
      ],
      "text/plain": [
       "<IPython.core.display.HTML object>"
      ]
     },
     "metadata": {},
     "output_type": "display_data"
    }
   ],
   "source": [
    "lm_learner.fit_one_cycle(1,2e-2)"
   ]
  },
  {
   "cell_type": "code",
   "execution_count": 33,
   "metadata": {},
   "outputs": [],
   "source": [
    "lm_learner.save('unbalanced-stage1-lm-1epoch')"
   ]
  },
  {
   "cell_type": "code",
   "execution_count": 34,
   "metadata": {},
   "outputs": [],
   "source": [
    "lm_learner.unfreeze()"
   ]
  },
  {
   "cell_type": "code",
   "execution_count": 35,
   "metadata": {},
   "outputs": [
    {
     "data": {
      "text/html": [
       "Total time: 12:26 <p><table style='width:450px; margin-bottom:10px'>\n",
       "  <tr>\n",
       "    <th>epoch</th>\n",
       "    <th>train_loss</th>\n",
       "    <th>valid_loss</th>\n",
       "    <th>accuracy</th>\n",
       "    <th>perplexity</th>\n",
       "    <th>time</th>\n",
       "  </tr>\n",
       "  <tr>\n",
       "    <th>0</th>\n",
       "    <th>4.773859</th>\n",
       "    <th>4.638681</th>\n",
       "    <th>0.267469</th>\n",
       "    <th>103.407898</th>\n",
       "    <th>06:13</th>\n",
       "  </tr>\n",
       "  <tr>\n",
       "    <th>1</th>\n",
       "    <th>4.480889</th>\n",
       "    <th>4.409340</th>\n",
       "    <th>0.284175</th>\n",
       "    <th>82.215179</th>\n",
       "    <th>06:13</th>\n",
       "  </tr>\n",
       "</table>\n"
      ],
      "text/plain": [
       "<IPython.core.display.HTML object>"
      ]
     },
     "metadata": {},
     "output_type": "display_data"
    }
   ],
   "source": [
    "lm_learner.fit_one_cycle(2,2e-2)"
   ]
  },
  {
   "cell_type": "code",
   "execution_count": 36,
   "metadata": {},
   "outputs": [],
   "source": [
    "lm_learner.save('unbalanced-stage2-lm-2epoch')"
   ]
  },
  {
   "cell_type": "code",
   "execution_count": 37,
   "metadata": {},
   "outputs": [
    {
     "data": {
      "text/html": [
       "Total time: 12:26 <p><table style='width:450px; margin-bottom:10px'>\n",
       "  <tr>\n",
       "    <th>epoch</th>\n",
       "    <th>train_loss</th>\n",
       "    <th>valid_loss</th>\n",
       "    <th>accuracy</th>\n",
       "    <th>perplexity</th>\n",
       "    <th>time</th>\n",
       "  </tr>\n",
       "  <tr>\n",
       "    <th>0</th>\n",
       "    <th>4.654118</th>\n",
       "    <th>4.549596</th>\n",
       "    <th>0.272579</th>\n",
       "    <th>94.594078</th>\n",
       "    <th>06:13</th>\n",
       "  </tr>\n",
       "  <tr>\n",
       "    <th>1</th>\n",
       "    <th>4.380896</th>\n",
       "    <th>4.364487</th>\n",
       "    <th>0.286884</th>\n",
       "    <th>78.609116</th>\n",
       "    <th>06:13</th>\n",
       "  </tr>\n",
       "</table>\n"
      ],
      "text/plain": [
       "<IPython.core.display.HTML object>"
      ]
     },
     "metadata": {},
     "output_type": "display_data"
    }
   ],
   "source": [
    "lm_learner.fit_one_cycle(2,2e-2)"
   ]
  },
  {
   "cell_type": "code",
   "execution_count": 39,
   "metadata": {},
   "outputs": [],
   "source": [
    "lm_learner.save('unbalanced-stage2-lm-4epoch')"
   ]
  },
  {
   "cell_type": "markdown",
   "metadata": {},
   "source": [
    "* To evaluate our language model, we run the `Learner.predict` method specifying the number of words we want it to guess.\n",
    "* We can see that the predicted words don't make much sense but are coherent and follow basic grammer thanks to our language model."
   ]
  },
  {
   "cell_type": "code",
   "execution_count": 44,
   "metadata": {},
   "outputs": [
    {
     "data": {
      "text/plain": [
       "'الغرفة جميلة ومريحة ❤ ️ .. والله العظيم اني لا أستطيع تكرار'"
      ]
     },
     "execution_count": 44,
     "metadata": {},
     "output_type": "execute_result"
    }
   ],
   "source": [
    "lm_learner.predict('الغرفة جميلة',n_words=10)"
   ]
  },
  {
   "cell_type": "markdown",
   "metadata": {},
   "source": [
    "*We save the language model encoder to use it for classification in the next step.*"
   ]
  },
  {
   "cell_type": "code",
   "execution_count": 46,
   "metadata": {},
   "outputs": [],
   "source": [
    "lm_learner.save_encoder('unbalanced-stage2-lm-enc')"
   ]
  },
  {
   "cell_type": "markdown",
   "metadata": {},
   "source": [
    "### 3- Creating the classifer:"
   ]
  },
  {
   "cell_type": "markdown",
   "metadata": {},
   "source": [
    "*We now use the classifer databunch we created earlier to build a classifier with our fine-tuned encoder.* "
   ]
  },
  {
   "cell_type": "code",
   "execution_count": 63,
   "metadata": {},
   "outputs": [
    {
     "data": {
      "text/plain": [
       "{'emb_sz': 400,\n",
       " 'n_hid': 1550,\n",
       " 'n_layers': 3,\n",
       " 'pad_token': 1,\n",
       " 'qrnn': True,\n",
       " 'bidir': False,\n",
       " 'output_p': 0.4,\n",
       " 'hidden_p': 0.3,\n",
       " 'input_p': 0.4,\n",
       " 'embed_p': 0.05,\n",
       " 'weight_p': 0.5}"
      ]
     },
     "execution_count": 63,
     "metadata": {},
     "output_type": "execute_result"
    }
   ],
   "source": [
    "qrnn_cls_config = copy.deepcopy(awd_lstm_clas_config)\n",
    "dps = dict(output_p=0.25, hidden_p=0.1, input_p=0.2, embed_p=0.02, weight_p=0.15)\n",
    "qrnn_cls_config.update({'emb_sz':emb_sz, 'n_hid':nh, 'n_layers':nl, 'pad_token':1, 'qrnn':True})\n",
    "qrnn_cls_config"
   ]
  },
  {
   "cell_type": "code",
   "execution_count": 64,
   "metadata": {},
   "outputs": [],
   "source": [
    "clas_learner = text_classifier_learner(reviews_cls_data,AWD_LSTM,config=qrnn_cls_config,model_dir=lm_path,drop_mult=.5)"
   ]
  },
  {
   "cell_type": "code",
   "execution_count": 65,
   "metadata": {},
   "outputs": [],
   "source": [
    "clas_learner.load_encoder('unbalanced-stage2-lm-enc')"
   ]
  },
  {
   "cell_type": "code",
   "execution_count": 66,
   "metadata": {},
   "outputs": [
    {
     "data": {
      "text/html": [],
      "text/plain": [
       "<IPython.core.display.HTML object>"
      ]
     },
     "metadata": {},
     "output_type": "display_data"
    },
    {
     "name": "stdout",
     "output_type": "stream",
     "text": [
      "LR Finder is complete, type {learner_name}.recorder.plot() to see the graph.\n"
     ]
    }
   ],
   "source": [
    "clas_learner.lr_find(start_lr = slice(10e-7,10e-5),end_lr=slice(0.1,10))"
   ]
  },
  {
   "cell_type": "code",
   "execution_count": 67,
   "metadata": {},
   "outputs": [
    {
     "data": {
      "image/png": "[encoded data removed]",
      "text/plain": [
       "<Figure size 432x288 with 1 Axes>"
      ]
     },
     "metadata": {
      "needs_background": "light"
     },
     "output_type": "display_data"
    }
   ],
   "source": [
    "clas_learner.recorder.plot(skip_end=10)"
   ]
  },
  {
   "cell_type": "markdown",
   "metadata": {},
   "source": [
    "*Again We train our model starting from the last layer then unfreezing the model and training the entire model\n",
    "we use `F-score` as a metric to compare our results to the cited paper.*"
   ]
  },
  {
   "cell_type": "code",
   "execution_count": 68,
   "metadata": {},
   "outputs": [],
   "source": [
    "clas_learner.metrics = [accuracy,FBeta(beta=3,average='weighted')]"
   ]
  },
  {
   "cell_type": "code",
   "execution_count": 69,
   "metadata": {},
   "outputs": [
    {
     "data": {
      "text/html": [
       "Total time: 01:48 <p><table style='width:450px; margin-bottom:10px'>\n",
       "  <tr>\n",
       "    <th>epoch</th>\n",
       "    <th>train_loss</th>\n",
       "    <th>valid_loss</th>\n",
       "    <th>accuracy</th>\n",
       "    <th>f_beta</th>\n",
       "    <th>time</th>\n",
       "  </tr>\n",
       "  <tr>\n",
       "    <th>0</th>\n",
       "    <th>0.231702</th>\n",
       "    <th>0.092588</th>\n",
       "    <th>0.968692</th>\n",
       "    <th>0.968566</th>\n",
       "    <th>01:48</th>\n",
       "  </tr>\n",
       "</table>\n"
      ],
      "text/plain": [
       "<IPython.core.display.HTML object>"
      ]
     },
     "metadata": {},
     "output_type": "display_data"
    }
   ],
   "source": [
    "clas_learner.fit_one_cycle(1,2e-3)"
   ]
  },
  {
   "cell_type": "code",
   "execution_count": 70,
   "metadata": {},
   "outputs": [],
   "source": [
    "clas_learner.save('unbalanced-stage1-1epoch')"
   ]
  },
  {
   "cell_type": "code",
   "execution_count": 71,
   "metadata": {},
   "outputs": [],
   "source": [
    "clas_learner.unfreeze()"
   ]
  },
  {
   "cell_type": "code",
   "execution_count": 72,
   "metadata": {},
   "outputs": [
    {
     "data": {
      "text/html": [
       "Total time: 09:09 <p><table style='width:450px; margin-bottom:10px'>\n",
       "  <tr>\n",
       "    <th>epoch</th>\n",
       "    <th>train_loss</th>\n",
       "    <th>valid_loss</th>\n",
       "    <th>accuracy</th>\n",
       "    <th>f_beta</th>\n",
       "    <th>time</th>\n",
       "  </tr>\n",
       "  <tr>\n",
       "    <th>0</th>\n",
       "    <th>0.007584</th>\n",
       "    <th>0.000004</th>\n",
       "    <th>1.000000</th>\n",
       "    <th>1.000000</th>\n",
       "    <th>04:40</th>\n",
       "  </tr>\n",
       "  <tr>\n",
       "    <th>1</th>\n",
       "    <th>0.001745</th>\n",
       "    <th>0.000000</th>\n",
       "    <th>1.000000</th>\n",
       "    <th>1.000000</th>\n",
       "    <th>04:28</th>\n",
       "  </tr>\n",
       "</table>\n"
      ],
      "text/plain": [
       "<IPython.core.display.HTML object>"
      ]
     },
     "metadata": {},
     "output_type": "display_data"
    }
   ],
   "source": [
    "clas_learner.fit_one_cycle(2,2e-3)"
   ]
  },
  {
   "cell_type": "code",
   "execution_count": 73,
   "metadata": {},
   "outputs": [],
   "source": [
    "clas_learner.save('unbalanced-stage2-2epoch')"
   ]
  },
  {
   "cell_type": "markdown",
   "metadata": {},
   "source": [
    "*We can test our classifier by giving it a review and see the predicted sentiment and its propablity.*"
   ]
  },
  {
   "cell_type": "code",
   "execution_count": 74,
   "metadata": {},
   "outputs": [],
   "source": [
    "text = 'الفندق سيئ'"
   ]
  },
  {
   "cell_type": "code",
   "execution_count": 75,
   "metadata": {},
   "outputs": [
    {
     "data": {
      "text/plain": [
       "(Category neg, tensor(0), tensor([0.7053, 0.0032, 0.2915]))"
      ]
     },
     "execution_count": 75,
     "metadata": {},
     "output_type": "execute_result"
    }
   ],
   "source": [
    "clas_learner.predict(text)\n"
   ]
  },
  {
   "cell_type": "code",
   "execution_count": 76,
   "metadata": {},
   "outputs": [
    {
     "data": {
      "text/html": [
       "<table border=\"1\" class=\"dataframe\">\n",
       "  <thead>\n",
       "    <tr style=\"text-align: right;\">\n",
       "      <th>text</th>\n",
       "      <th>target</th>\n",
       "      <th>prediction</th>\n",
       "    </tr>\n",
       "  </thead>\n",
       "  <tbody>\n",
       "    <tr>\n",
       "      <td>xxbos “ منتجع ممتاز للإستجمام ” . لدي الكثير xxunk عن هذا المنتجع xxunk إذا xxunk كفندق فهو خمس نجوم بامتياز ولا أدري لما تصنيفه ثلاث نجوم فقط ، xxunk عندما قرأت تعليقات النزلاء xxunk تخوفت كثيراً من كون المنتجع سيء . عندما ذهبت إلى هناك فوجئت بالخدمة الممتازة . _ مواقف السيارات كافية لكل النزلاء فيما أعتقد _ الاستقبال ممتاز ولديه لباقة ويليق بفندق راق _ الممرات والساحات نظيفة</td>\n",
       "      <td>pos</td>\n",
       "      <td>pos</td>\n",
       "    </tr>\n",
       "    <tr>\n",
       "      <td>xxbos “ نعم ولكن ” . تم زيارة عائلتي لهذا الفندق أربع مرات سابقاً xxunk الجميع بخدمة ممتازة ومميزة واستقبال رائع وسرعة في اجراءات الدخول أمي تحب هذا الفندق كثيراً ونصحت أخي بالنزول فيه أخي يسكن بالمنطقة الشرقية بناءً على رغبته في تجربة هذا الفندق xxunk حجز الفندق عن طريق بطاقتي الائتمانية لمدة ثلاث تم اقتطاع المبلغ وبما أنني xxunk من سكان المدينه قمت xxunk لضمان الحجز بالاتصال والسؤال عن</td>\n",
       "      <td>neg</td>\n",
       "      <td>neg</td>\n",
       "    </tr>\n",
       "    <tr>\n",
       "      <td>xxbos ضعيف جداً. فندق فخم بس إدارة فاشلة و مزعجة و متعبة . 1 ) اتصلت قبل الوصول بساعة و أخبرتهم أنني سأصل فيرجى عدم التأخير مثل كل مرة على الرسبشن و طلبت تجهيز الأوراق للتوقيع و استلام الغرفة حيث أنني حاجز بالأنترنت .. فتفاجأت بتأخيري ساعة كاملة ... xxunk ) لم يرسلوا العربة لنقل الأغراض من الباركن بالسيارة للغرفة فاضطريت لنقل الأغراض بنفسي على دفعتين من الباركن تحت الأرض</td>\n",
       "      <td>neg</td>\n",
       "      <td>neg</td>\n",
       "    </tr>\n",
       "    <tr>\n",
       "      <td>xxbos “ جميلة ” . القيمة مقابل المال تعتبر ممتازة جد xxrep 4 ا حيث الخدمات وكثرة الموظفين في منطقة الرسبشن وحوله والابتسامة وتقديم خدمات من فتح باب الفندق وطلب تاكسي xxunk عربية البيبي فالسيارة بمجرد طلب اي شي سواء بالتلفون او من خلال الموظف مباشرة ، لا اجامل والله ولا اكذب ، لن تصل غرفتك الا وقد تحقق ماتريد ، والله فعلا هناك سرعة xxunk xxunk اغلب الفنادق ..</td>\n",
       "      <td>pos</td>\n",
       "      <td>pos</td>\n",
       "    </tr>\n",
       "    <tr>\n",
       "      <td>xxbos مرضي . الهدوء . عندما اقمنا لديهم في يومي الخميس والجمعه 14 - 16 / 2014 / 8 في هذا الجناح 216 والذي xxunk بالجناح xxunk الذي جعلوني اقيم فيه رغماً عني مع العلم انني حجزت عبر موقعكم جناح تنفيذي اكبر مساحه xxunk متر واعطوني جناح تنفيذي xxunk مساحه وعندما سألتهم عن اسباب ذلك تعذروا بانني حجزت متاخر عند الثانيه من ظهر نفس اليوم ولايوجد الجناح الذي حجزته والسؤال</td>\n",
       "      <td>ntl</td>\n",
       "      <td>ntl</td>\n",
       "    </tr>\n",
       "  </tbody>\n",
       "</table>"
      ],
      "text/plain": [
       "<IPython.core.display.HTML object>"
      ]
     },
     "metadata": {},
     "output_type": "display_data"
    }
   ],
   "source": [
    "clas_learner.show_results()"
   ]
  },
  {
   "cell_type": "markdown",
   "metadata": {},
   "source": [
    "*We create a temp databunch containg our held-out test dataset to validate our classifer.*"
   ]
  },
  {
   "cell_type": "code",
   "execution_count": 77,
   "metadata": {},
   "outputs": [
    {
     "data": {
      "text/plain": [
       "(409562, 7)"
      ]
     },
     "execution_count": 77,
     "metadata": {},
     "output_type": "execute_result"
    }
   ],
   "source": [
    "unbalanced_all_df = pd.concat([unbalanced_train_df,unbalanced_test_df])\n",
    "unbalanced_all_df.shape"
   ]
  },
  {
   "cell_type": "code",
   "execution_count": 78,
   "metadata": {},
   "outputs": [],
   "source": [
    "reviews_cls_test_data = (TextList.from_df(unbalanced_all_df,cols=['review','rating'],vocab=reviews_lm_data.train_ds.vocab)\n",
    "                   .split_by_idx(unbalanced_test_df.index)\n",
    "                   .label_from_func(label_for_reviews)\n",
    "                   .databunch(bs=64))"
   ]
  },
  {
   "cell_type": "code",
   "execution_count": 79,
   "metadata": {},
   "outputs": [
    {
     "data": {
      "text/plain": [
       "[5.5179265e-07, tensor(1.), tensor(1.)]"
      ]
     },
     "execution_count": 79,
     "metadata": {},
     "output_type": "execute_result"
    }
   ],
   "source": [
    "#Validate returns (error rate , accuracy , F-Score)\n",
    "clas_learner.validate(reviews_cls_test_data.valid_dl)"
   ]
  },
  {
   "cell_type": "code",
   "execution_count": null,
   "metadata": {},
   "outputs": [],
   "source": []
  }
 ],
 "metadata": {
  "kernelspec": {
   "display_name": "Python 3",
   "language": "python",
   "name": "python3"
  },
  "language_info": {
   "codemirror_mode": {
    "name": "ipython",
    "version": 3
   },
   "file_extension": ".py",
   "mimetype": "text/x-python",
   "name": "python",
   "nbconvert_exporter": "python",
   "pygments_lexer": "ipython3",
   "version": "3.7.2"
  }
 },
 "nbformat": 4,
 "nbformat_minor": 2
}
