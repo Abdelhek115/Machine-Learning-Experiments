{
 "cells": [
  {
   "cell_type": "markdown",
   "metadata": {},
   "source": [
    "# Hotel reviews classification using Arabic ULMFIT model\n",
    "### You can get this dataset from https://github.com/elnagara/HARD-Arabic-Dataset .\n",
    "This dataset contains 93700 hotel reviews in Arabic language. The hotel reviews were collected from Booking.com website during June/July 2016. The reviews are expressed in Modern Standard Arabic as well as dialectal Arabic. \n",
    "##### *Citation*:\n",
    "> Elnagar A., Khalifa Y.S., Einea A. (2018) Hotel Arabic-Reviews Dataset Construction for Sentiment Analysis Applications. \n",
    "In: Shaalan K., Hassanien A., Tolba F. (eds) Intelligent Natural Language Processing: Trends and Applications. \n",
    "Studies in Computational Intelligence, vol 740, pp: 35-52. Springer International Publishing. \n",
    "doi=\"10.1007/978-3-319-67056-0_3. url=\"https://doi.org/10.1007/978-3-319-67056-0_3\""
   ]
  },
  {
   "cell_type": "markdown",
   "metadata": {},
   "source": [
    "For more information about ULMFIT see [Paper](https://arxiv.org/abs/1801.06146) & [Blog post](http://nlp.fast.ai/)."
   ]
  },
  {
   "cell_type": "markdown",
   "metadata": {},
   "source": [
    "### Using our pretrained Arabic ULMFIT language model we do the following:\n",
    "1- Preprocess our dataset and get it ready for use in the coming steps by creating a language model databunch & classifer databunch.\n",
    "\n",
    "2- Load our language model with pretrained weights then fine-tune it to our dataset.\n",
    "\n",
    "3- Create a classifier on top of the encoder of the language model."
   ]
  },
  {
   "cell_type": "code",
   "execution_count": 7,
   "metadata": {},
   "outputs": [],
   "source": [
    "%matplotlib inline\n",
    "%reload_ext autoreload\n",
    "%autoreload 2"
   ]
  },
  {
   "cell_type": "code",
   "execution_count": 3,
   "metadata": {},
   "outputs": [],
   "source": [
    "from fastai.text import *\n",
    "import path\n",
    "import copy"
   ]
  },
  {
   "cell_type": "code",
   "execution_count": 1,
   "metadata": {
    "scrolled": true
   },
   "outputs": [
    {
     "data": {
      "text/plain": [
       "'1.0.51.dev0'"
      ]
     },
     "execution_count": 1,
     "metadata": {},
     "output_type": "execute_result"
    }
   ],
   "source": [
    "#Latest dev version of fastai in order to get some fixes for QRNNs\n",
    "import fastai; fastai.__version__"
   ]
  },
  {
   "cell_type": "code",
   "execution_count": 6,
   "metadata": {},
   "outputs": [],
   "source": [
    "data_path = Path('data')\n",
    "lm_path = Path('.')"
   ]
  },
  {
   "cell_type": "markdown",
   "metadata": {},
   "source": [
    "### 1- Pre-processing our Dataset :"
   ]
  },
  {
   "cell_type": "markdown",
   "metadata": {},
   "source": [
    "**This notebook uses the balanced reviews file (50 % neg, 50% pos),  you can find the notebook that uses the unbalanced reviews in the same github repo.**"
   ]
  },
  {
   "cell_type": "code",
   "execution_count": 10,
   "metadata": {},
   "outputs": [],
   "source": [
    "balanced_df = pd.read_csv(data_path/'balanced-reviews.txt',delimiter='\\t',encoding='utf_16_le')"
   ]
  },
  {
   "cell_type": "code",
   "execution_count": 11,
   "metadata": {},
   "outputs": [
    {
     "data": {
      "text/html": [
       "<div>\n",
       "<style scoped>\n",
       "    .dataframe tbody tr th:only-of-type {\n",
       "        vertical-align: middle;\n",
       "    }\n",
       "\n",
       "    .dataframe tbody tr th {\n",
       "        vertical-align: top;\n",
       "    }\n",
       "\n",
       "    .dataframe thead th {\n",
       "        text-align: right;\n",
       "    }\n",
       "</style>\n",
       "<table border=\"1\" class=\"dataframe\">\n",
       "  <thead>\n",
       "    <tr style=\"text-align: right;\">\n",
       "      <th></th>\n",
       "      <th>no</th>\n",
       "      <th>Hotel name</th>\n",
       "      <th>rating</th>\n",
       "      <th>user type</th>\n",
       "      <th>room type</th>\n",
       "      <th>nights</th>\n",
       "      <th>review</th>\n",
       "    </tr>\n",
       "  </thead>\n",
       "  <tbody>\n",
       "    <tr>\n",
       "      <th>0</th>\n",
       "      <td>2</td>\n",
       "      <td>فندق 72</td>\n",
       "      <td>2</td>\n",
       "      <td>مسافر منفرد</td>\n",
       "      <td>غرفة ديلوكس مزدوجة أو توأم</td>\n",
       "      <td>أقمت ليلة واحدة</td>\n",
       "      <td>“ممتاز”. النظافة والطاقم متعاون.</td>\n",
       "    </tr>\n",
       "    <tr>\n",
       "      <th>1</th>\n",
       "      <td>3</td>\n",
       "      <td>فندق 72</td>\n",
       "      <td>5</td>\n",
       "      <td>زوج</td>\n",
       "      <td>غرفة ديلوكس مزدوجة أو توأم</td>\n",
       "      <td>أقمت ليلة واحدة</td>\n",
       "      <td>استثنائي. سهولة إنهاء المعاملة في الاستقبال. ل...</td>\n",
       "    </tr>\n",
       "    <tr>\n",
       "      <th>2</th>\n",
       "      <td>16</td>\n",
       "      <td>فندق 72</td>\n",
       "      <td>5</td>\n",
       "      <td>زوج</td>\n",
       "      <td>-</td>\n",
       "      <td>أقمت ليلتين</td>\n",
       "      <td>استثنائي. انصح بأختيار الاسويت و بالاخص غرفه ر...</td>\n",
       "    </tr>\n",
       "    <tr>\n",
       "      <th>3</th>\n",
       "      <td>20</td>\n",
       "      <td>فندق 72</td>\n",
       "      <td>1</td>\n",
       "      <td>زوج</td>\n",
       "      <td>غرفة قياسية مزدوجة</td>\n",
       "      <td>أقمت ليلة واحدة</td>\n",
       "      <td>“استغرب تقييم الفندق كخمس نجوم”. لا شي. يستحق ...</td>\n",
       "    </tr>\n",
       "    <tr>\n",
       "      <th>4</th>\n",
       "      <td>23</td>\n",
       "      <td>فندق 72</td>\n",
       "      <td>4</td>\n",
       "      <td>زوج</td>\n",
       "      <td>غرفة ديلوكس مزدوجة أو توأم</td>\n",
       "      <td>أقمت ليلتين</td>\n",
       "      <td>جيد. المكان جميل وهاديء. كل شي جيد ونظيف بس كا...</td>\n",
       "    </tr>\n",
       "  </tbody>\n",
       "</table>\n",
       "</div>"
      ],
      "text/plain": [
       "   no Hotel name  rating    user type                   room type  \\\n",
       "0   2    فندق 72       2  مسافر منفرد  غرفة ديلوكس مزدوجة أو توأم   \n",
       "1   3    فندق 72       5          زوج  غرفة ديلوكس مزدوجة أو توأم   \n",
       "2  16    فندق 72       5          زوج                           -   \n",
       "3  20    فندق 72       1          زوج          غرفة قياسية مزدوجة   \n",
       "4  23    فندق 72       4          زوج  غرفة ديلوكس مزدوجة أو توأم   \n",
       "\n",
       "            nights                                             review  \n",
       "0  أقمت ليلة واحدة                  “ممتاز”. النظافة والطاقم متعاون.   \n",
       "1  أقمت ليلة واحدة  استثنائي. سهولة إنهاء المعاملة في الاستقبال. ل...  \n",
       "2      أقمت ليلتين  استثنائي. انصح بأختيار الاسويت و بالاخص غرفه ر...  \n",
       "3  أقمت ليلة واحدة  “استغرب تقييم الفندق كخمس نجوم”. لا شي. يستحق ...  \n",
       "4      أقمت ليلتين  جيد. المكان جميل وهاديء. كل شي جيد ونظيف بس كا...  "
      ]
     },
     "execution_count": 11,
     "metadata": {},
     "output_type": "execute_result"
    }
   ],
   "source": [
    "balanced_df.head()"
   ]
  },
  {
   "cell_type": "code",
   "execution_count": 12,
   "metadata": {},
   "outputs": [
    {
     "data": {
      "text/plain": [
       "(105698, 7)"
      ]
     },
     "execution_count": 12,
     "metadata": {},
     "output_type": "execute_result"
    }
   ],
   "source": [
    "balanced_df.shape"
   ]
  },
  {
   "cell_type": "markdown",
   "metadata": {},
   "source": [
    "*Create A held-out test dataset using 10% of our full dataset. and drop it from the full dataset.*"
   ]
  },
  {
   "cell_type": "code",
   "execution_count": 13,
   "metadata": {},
   "outputs": [],
   "source": [
    "test_df = balanced_df.sample(frac = .1 ,replace=False,random_state = 42)"
   ]
  },
  {
   "cell_type": "code",
   "execution_count": 14,
   "metadata": {},
   "outputs": [
    {
     "data": {
      "text/plain": [
       "(95128, 7)"
      ]
     },
     "execution_count": 14,
     "metadata": {},
     "output_type": "execute_result"
    }
   ],
   "source": [
    "balanced_df = balanced_df.drop(test_df.index)\n",
    "balanced_df.shape"
   ]
  },
  {
   "cell_type": "markdown",
   "metadata": {},
   "source": [
    "*Create 2 csv files containing our train/valid and our test datasets.*"
   ]
  },
  {
   "cell_type": "code",
   "execution_count": 15,
   "metadata": {},
   "outputs": [],
   "source": [
    "test_df.to_csv(data_path/'balanced_reviews_test.csv',index=False)"
   ]
  },
  {
   "cell_type": "code",
   "execution_count": 16,
   "metadata": {},
   "outputs": [],
   "source": [
    "balanced_df.to_csv(data_path/'balanced_reviews_train.csv',index=False)"
   ]
  },
  {
   "cell_type": "code",
   "execution_count": 7,
   "metadata": {},
   "outputs": [],
   "source": [
    "balanced_train_df = pd.read_csv(data_path/'balanced_reviews_train.csv')"
   ]
  },
  {
   "cell_type": "code",
   "execution_count": 8,
   "metadata": {},
   "outputs": [],
   "source": [
    "balanced_test_df = pd.read_csv(data_path/'balanced_reviews_test.csv')"
   ]
  },
  {
   "cell_type": "markdown",
   "metadata": {},
   "source": [
    "* Create a Language model databunch that does all the necessary preprocessing like tokenization and numericalization.\n",
    "\n",
    "* All the text in the dataset is concatenated and the labels are ignored. Instead, the target is the next word in the sentence.\n",
    "\n",
    "* We also create a validation set that is 10% of our full dataset (80% train 10% valid 10% test)."
   ]
  },
  {
   "cell_type": "code",
   "execution_count": 20,
   "metadata": {},
   "outputs": [],
   "source": [
    "reviews_lm_data = (TextList.from_df(balanced_train_df,cols=['review'])\n",
    "                   .split_by_rand_pct(.1)\n",
    "                   .label_for_lm()\n",
    "                   .databunch(bs=64))"
   ]
  },
  {
   "cell_type": "code",
   "execution_count": 21,
   "metadata": {},
   "outputs": [
    {
     "data": {
      "text/html": [
       "<table border=\"1\" class=\"dataframe\">\n",
       "  <thead>\n",
       "    <tr style=\"text-align: right;\">\n",
       "      <th>idx</th>\n",
       "      <th>text</th>\n",
       "    </tr>\n",
       "  </thead>\n",
       "  <tbody>\n",
       "    <tr>\n",
       "      <td>0</td>\n",
       "      <td>فيه صيانه والله اعلم xxbos ممتاز . موقع الفندق ونظافته والاطلاله على البحر وجزيرة النور التي تحتوي على الفراشات وكذلك قربه من المسجد والممشى توفر المواقف بجانب الفندق وخدمة صف السيارات . المسبح كان مغلق للصيانه المواقف تحتاج الى مظلات xxbos “ جيدجداً ” . الافطار جيد والسرير ممتاز ومريح واطلالة الغرفة رائعه . فرش ارضية الغرفه xxbos “ فندق ممتاز ” . الاثاث ، النظافه . xxbos “ الراحة</td>\n",
       "    </tr>\n",
       "    <tr>\n",
       "      <td>1</td>\n",
       "      <td>جدا ” . . xxunk وجود وأي فأي فري مع انا فتدق ثلاثه نجوم وفنادق نجمه ونجمتين يوجد لديهم وأي فأي فري ومواقف فري xxbos “ xxunk عليه ” . لا شئ . كل شئ xxbos “ الفندق سيّء جدا ” . لا شئ اعجبني على الإطلاق . كل شي في الفندق xxbos “ لم يعجبني ” . فقط السرير . كل شيء عليها ضمان ضمان و كل شيء عليه</td>\n",
       "    </tr>\n",
       "    <tr>\n",
       "      <td>2</td>\n",
       "      <td>به ويحتاج إلى تنوع أكثر . لايوجد خدمة انترنيت مجاني بالرغم من أن اغلب الفنادق اصبحت توفر هذه الخدمة ، أيضاً الشطافات في الحمامات كانت صدئة وغير نظيفة ، لم أشعر بالراحة في الغرفة أثناء النوم ليلاً كان هناك شي غريب بها . xxbos “ فندق ذو ملحقات ممتازه ” . المساحة وملحقات الفندق من الحديقة والمسابح والمطعم الخارجي . الغرفة لاترقى بمستوى الفندق ويوجد بالجدران xxunk بالصبغ يدل على</td>\n",
       "    </tr>\n",
       "    <tr>\n",
       "      <td>3</td>\n",
       "      <td>xxmaj please xxunk the city map to xxmaj see what i mean . xxmaj the breakfast \" we try it xxunk only from 7 \" . xxbos “ فندق عادي او اقل بسعر عالي جدا ” . . بهو الفندق مزدحم تماما ولا يوجد اي xxunk الفندق غير متاح xxunk عوازل بين الغرف لدرجة احساسي بأصوات الغرف حولي كأنهم معي في نفس الغرفة . الغرفة صغيرة xxunk الطعام محدود للغاية</td>\n",
       "    </tr>\n",
       "    <tr>\n",
       "      <td>4</td>\n",
       "      <td>يعجبني سوا قربه من الحرم فقط الباقي تم الاشاره له اعلاه xxbos رائع . . لايوجد موقف سيارات xxbos استثنائي . . النت ما يشتغل بالغرف الا نادر و اذا اشتغل بطيء جداً xxbos “ xxunk غير موفقه ” . قربه من الحرم . الغرفه ضيقه ودورة المياه صغيره جداوالسرير غير مريح xxbos “ ممتاز جداً ” . ممتاز جداً وقريب من الحرم . xxbos “ لايستحق تقييم الفندق سيئ</td>\n",
       "    </tr>\n",
       "  </tbody>\n",
       "</table>"
      ],
      "text/plain": [
       "<IPython.core.display.HTML object>"
      ]
     },
     "metadata": {},
     "output_type": "display_data"
    }
   ],
   "source": [
    "reviews_lm_data.show_batch()"
   ]
  },
  {
   "cell_type": "markdown",
   "metadata": {},
   "source": [
    "*Save our databunch so we can load it instantly later if we want.*"
   ]
  },
  {
   "cell_type": "code",
   "execution_count": 22,
   "metadata": {},
   "outputs": [],
   "source": [
    "reviews_lm_data.save('reviews_lm')"
   ]
  },
  {
   "cell_type": "code",
   "execution_count": 23,
   "metadata": {},
   "outputs": [],
   "source": [
    "reviews_lm_data = load_data(lm_path,'reviews_lm')"
   ]
  },
  {
   "cell_type": "markdown",
   "metadata": {},
   "source": [
    "* Create a classification databunch that does all the necessary preprocessing like tokenization and numericalization.\n",
    "* We map the rating to labels ('pos' or 'neg').\n",
    "* We also pass the vocabulary (mapping from ids to words) that we want to use to ensure that our classification databunch will use the same dictionary as our language model databunch."
   ]
  },
  {
   "cell_type": "code",
   "execution_count": 25,
   "metadata": {},
   "outputs": [],
   "source": [
    "label_for_reviews = lambda x: 'neg' if(x[1] < 3) else 'pos'"
   ]
  },
  {
   "cell_type": "code",
   "execution_count": 26,
   "metadata": {},
   "outputs": [],
   "source": [
    "reviews_cls_data = (TextList.from_df(balanced_train_df,cols=['review','rating'],vocab=reviews_lm_data.train_ds.vocab)\n",
    "                   .split_by_rand_pct(.1)\n",
    "                   .label_from_func(label_for_reviews)\n",
    "                   .databunch(bs=64))"
   ]
  },
  {
   "cell_type": "code",
   "execution_count": 27,
   "metadata": {},
   "outputs": [
    {
     "data": {
      "text/html": [
       "<table border=\"1\" class=\"dataframe\">\n",
       "  <thead>\n",
       "    <tr style=\"text-align: right;\">\n",
       "      <th>text</th>\n",
       "      <th>target</th>\n",
       "    </tr>\n",
       "  </thead>\n",
       "  <tbody>\n",
       "    <tr>\n",
       "      <td>xxbos “ فندق وادارة لايهمه الزبون وفريق متعالي على لاشئ ” . كان لدي حجزين احدهم لاربع ايام والاخر بعدها بيوم لاربع ايام وحين وصل الفندق مع والدتي والعائله فاجأوني بأن الحجز الاول تم الغاءه دون التواصل معي او الاتصال من الفندق او من بوكينج وعذرهم xxunk لك ايميل xxunk مساء يوم الحجز وقد وصلت الفندق xxunk وقالوا العمليه معلقه ولكن حجزك الاخر للعائله الاخرى غدا تم اعتماده . ولكن</td>\n",
       "      <td>neg</td>\n",
       "    </tr>\n",
       "    <tr>\n",
       "      <td>xxbos “ رديء للغ xxrep 7 ا يه xxunk اسأل مجرب ” . لا شي . الفندق غير مؤهل للسكن من ك xxrep 5 ا فة النواحي الاثاث قديم والتلفزيون فيه xxunk او 3 xxunk غير عربيات ياخي ناس جايه تجلس فترات xxunk خاصه xxunk طالعه برا الفندق تريد اتابع شي xxunk قنوات هنود xxunk .. و ملئ بالحشرات وخاصه السرير ظهور حشرات لاترى xxunk وانت ن xxrep 5 ا</td>\n",
       "      <td>neg</td>\n",
       "    </tr>\n",
       "    <tr>\n",
       "      <td>xxbos “ حضرت للعمرة انا xxunk ” . مدير الفندق رجل محترم xxunk حين لم يخدمنا الموظفين , xxunk السحور في مطعم المطبخ كان رخيص xxunk xxunk ريال ) لكن افضل شي كان طبخ الطباخ , طلبنا مقابلته xxunk جدا جدا على اتقان طبخه xxunk وذكر انه تونسي الجنسيه xxunk مالك الفندق xxunk على الطباخ وطلبنا xxunk , ميزة الفندق انه اقرب الفنادق لباصات النقل الجماعي في محبس الجن ,</td>\n",
       "      <td>neg</td>\n",
       "    </tr>\n",
       "    <tr>\n",
       "      <td>xxbos “ تجربه لم تكن سيئه ولكن لن اكررها ” . ١ / المكان جميل على البحر ٢ / المواقف مريحة وواسعه تقف امام xxunk / تعامل الموظفين xxunk / حجزي كان مؤكد عن طريق بوكينق فله بغرفه نوم واحدة لكن لما وصلت قالوا لي الفلل بغرفة نوم واحده فل xxunk فله بغرفتين بنفس السعر .. ( ميزة بالنسبه لي لكن هذا يعني عدم xxunk بالحجز المؤكد ) اكثر شي</td>\n",
       "      <td>neg</td>\n",
       "    </tr>\n",
       "    <tr>\n",
       "      <td>xxbos “ تجربة فاشلة xxunk ” . لا يوجد . التعامل سيئ عدم الرد على النزلاء التجاهل والتطنيش يتم الاتصال اكثر من مرة ولايوجد رد انعدام الادب لديهم وفي الافطار واجهت اكثر من موقف ولم اصعد الموضوع يتم اخذ اكواب القهوة من على الطاولة بدون استاذان مع العلم بوجود طاولات غير شاغرة الانتظار منا الجلوس والسماح xxunk بالذهاب للبوفية ضعف وقلة اصناف الافطار لايوجد خدمة راقية التاخر في ارسال الملابس</td>\n",
       "      <td>neg</td>\n",
       "    </tr>\n",
       "  </tbody>\n",
       "</table>"
      ],
      "text/plain": [
       "<IPython.core.display.HTML object>"
      ]
     },
     "metadata": {},
     "output_type": "display_data"
    }
   ],
   "source": [
    "reviews_cls_data.show_batch()"
   ]
  },
  {
   "cell_type": "code",
   "execution_count": 28,
   "metadata": {},
   "outputs": [],
   "source": [
    "reviews_cls_data.save('reviews_cls')"
   ]
  },
  {
   "cell_type": "code",
   "execution_count": 29,
   "metadata": {},
   "outputs": [],
   "source": [
    "reviews_cls_data = load_data(lm_path,'reviews_cls')"
   ]
  },
  {
   "cell_type": "markdown",
   "metadata": {},
   "source": [
    "## 2- Fine-tune our LM to our Dataset:"
   ]
  },
  {
   "cell_type": "code",
   "execution_count": 30,
   "metadata": {},
   "outputs": [],
   "source": [
    "pretrained_lm_fname = 'new_lm'\n",
    "pretrained_itos_fname = 'itos'"
   ]
  },
  {
   "cell_type": "markdown",
   "metadata": {},
   "source": [
    "* We will create a uni-directional [QRNN] (https://arxiv.org/abs/1611.01576) that will load our pre-trained language model weights stored in `new_lm.pth` and also load  `itos.pkl`  which contains our id to token mapping.\n",
    "* We also pass it our language model databunch which we will fine-tune our language model to."
   ]
  },
  {
   "cell_type": "code",
   "execution_count": 31,
   "metadata": {
    "scrolled": true
   },
   "outputs": [
    {
     "data": {
      "text/plain": [
       "{'emb_sz': 400,\n",
       " 'n_hid': 1550,\n",
       " 'n_layers': 3,\n",
       " 'pad_token': 1,\n",
       " 'qrnn': True,\n",
       " 'bidir': False,\n",
       " 'output_p': 0.1,\n",
       " 'hidden_p': 0.15,\n",
       " 'input_p': 0.25,\n",
       " 'embed_p': 0.02,\n",
       " 'weight_p': 0.2,\n",
       " 'tie_weights': True,\n",
       " 'out_bias': True}"
      ]
     },
     "execution_count": 31,
     "metadata": {},
     "output_type": "execute_result"
    }
   ],
   "source": [
    "emb_sz:int = 400\n",
    "nh: int = 1550\n",
    "nl: int = 3\n",
    "\n",
    "qrnn_config = copy.deepcopy(awd_lstm_lm_config)\n",
    "dps = dict(output_p=0.25, hidden_p=0.1, input_p=0.2, embed_p=0.02, weight_p=0.15)\n",
    "qrnn_config.update({'emb_sz':emb_sz, 'n_hid':nh, 'n_layers':nl, 'pad_token':1, 'qrnn':True})\n",
    "qrnn_config"
   ]
  },
  {
   "cell_type": "code",
   "execution_count": 32,
   "metadata": {},
   "outputs": [],
   "source": [
    "lm_learner = language_model_learner(reviews_lm_data,AWD_LSTM,pretrained=False,config=qrnn_config, model_dir=lm_path,drop_mult=.3,pretrained_fnames=(pretrained_lm_fname,pretrained_itos_fname))"
   ]
  },
  {
   "cell_type": "code",
   "execution_count": 33,
   "metadata": {},
   "outputs": [
    {
     "data": {
      "text/html": [],
      "text/plain": [
       "<IPython.core.display.HTML object>"
      ]
     },
     "metadata": {},
     "output_type": "display_data"
    },
    {
     "name": "stdout",
     "output_type": "stream",
     "text": [
      "LR Finder is complete, type {learner_name}.recorder.plot() to see the graph.\n"
     ]
    }
   ],
   "source": [
    "lm_learner.lr_find(start_lr = slice(10e-7,10e-5),end_lr=slice(0.1,10))"
   ]
  },
  {
   "cell_type": "code",
   "execution_count": 34,
   "metadata": {
    "scrolled": true
   },
   "outputs": [
    {
     "data": {
      "image/png": "[encoded data removed]",
      "text/plain": [
       "<Figure size 432x288 with 1 Axes>"
      ]
     },
     "metadata": {
      "needs_background": "light"
     },
     "output_type": "display_data"
    }
   ],
   "source": [
    "lm_learner.recorder.plot(skip_end=10)"
   ]
  },
  {
   "cell_type": "code",
   "execution_count": 124,
   "metadata": {},
   "outputs": [],
   "source": [
    "lm_learner.metrics = [accuracy,Perplexity()]"
   ]
  },
  {
   "cell_type": "markdown",
   "metadata": {},
   "source": [
    "*We train our model starting from the last layer then unfreezing the model and training the entire network*"
   ]
  },
  {
   "cell_type": "code",
   "execution_count": 35,
   "metadata": {},
   "outputs": [
    {
     "data": {
      "text/html": [
       "Total time: 01:04 <p><table style='width:375px; margin-bottom:10px'>\n",
       "  <tr>\n",
       "    <th>epoch</th>\n",
       "    <th>train_loss</th>\n",
       "    <th>valid_loss</th>\n",
       "    <th>accuracy</th>\n",
       "    <th>time</th>\n",
       "  </tr>\n",
       "  <tr>\n",
       "    <th>0</th>\n",
       "    <th>5.836286</th>\n",
       "    <th>5.239108</th>\n",
       "    <th>0.219654</th>\n",
       "    <th>01:04</th>\n",
       "  </tr>\n",
       "</table>\n"
      ],
      "text/plain": [
       "<IPython.core.display.HTML object>"
      ]
     },
     "metadata": {},
     "output_type": "display_data"
    }
   ],
   "source": [
    "lm_learner.fit_one_cycle(1,2e-2)"
   ]
  },
  {
   "cell_type": "code",
   "execution_count": 36,
   "metadata": {},
   "outputs": [],
   "source": [
    "lm_learner.save('balanced-stage1-lm-1epoch')"
   ]
  },
  {
   "cell_type": "code",
   "execution_count": 37,
   "metadata": {},
   "outputs": [],
   "source": [
    "lm_learner.unfreeze()"
   ]
  },
  {
   "cell_type": "code",
   "execution_count": 38,
   "metadata": {},
   "outputs": [
    {
     "data": {
      "text/html": [
       "Total time: 02:27 <p><table style='width:375px; margin-bottom:10px'>\n",
       "  <tr>\n",
       "    <th>epoch</th>\n",
       "    <th>train_loss</th>\n",
       "    <th>valid_loss</th>\n",
       "    <th>accuracy</th>\n",
       "    <th>time</th>\n",
       "  </tr>\n",
       "  <tr>\n",
       "    <th>0</th>\n",
       "    <th>4.961680</th>\n",
       "    <th>4.750681</th>\n",
       "    <th>0.253110</th>\n",
       "    <th>01:13</th>\n",
       "  </tr>\n",
       "  <tr>\n",
       "    <th>1</th>\n",
       "    <th>4.581797</th>\n",
       "    <th>4.533260</th>\n",
       "    <th>0.269498</th>\n",
       "    <th>01:13</th>\n",
       "  </tr>\n",
       "</table>\n"
      ],
      "text/plain": [
       "<IPython.core.display.HTML object>"
      ]
     },
     "metadata": {},
     "output_type": "display_data"
    }
   ],
   "source": [
    "lm_learner.fit_one_cycle(2,2e-2)"
   ]
  },
  {
   "cell_type": "code",
   "execution_count": 39,
   "metadata": {},
   "outputs": [],
   "source": [
    "lm_learner.save('balanced-stage2-lm-2epoch')"
   ]
  },
  {
   "cell_type": "code",
   "execution_count": 40,
   "metadata": {},
   "outputs": [
    {
     "data": {
      "text/html": [
       "Total time: 02:27 <p><table style='width:375px; margin-bottom:10px'>\n",
       "  <tr>\n",
       "    <th>epoch</th>\n",
       "    <th>train_loss</th>\n",
       "    <th>valid_loss</th>\n",
       "    <th>accuracy</th>\n",
       "    <th>time</th>\n",
       "  </tr>\n",
       "  <tr>\n",
       "    <th>0</th>\n",
       "    <th>4.685013</th>\n",
       "    <th>4.612954</th>\n",
       "    <th>0.261522</th>\n",
       "    <th>01:13</th>\n",
       "  </tr>\n",
       "  <tr>\n",
       "    <th>1</th>\n",
       "    <th>4.376598</th>\n",
       "    <th>4.479545</th>\n",
       "    <th>0.273434</th>\n",
       "    <th>01:13</th>\n",
       "  </tr>\n",
       "</table>\n"
      ],
      "text/plain": [
       "<IPython.core.display.HTML object>"
      ]
     },
     "metadata": {},
     "output_type": "display_data"
    }
   ],
   "source": [
    "lm_learner.fit_one_cycle(2,2e-2)"
   ]
  },
  {
   "cell_type": "code",
   "execution_count": 41,
   "metadata": {},
   "outputs": [],
   "source": [
    "lm_learner.save('balanced-stage2-lm-4epoch')"
   ]
  },
  {
   "cell_type": "markdown",
   "metadata": {},
   "source": [
    "* To evaluate our language model, we run the `Learner.predict` method specifying the number of words we want it to guess.\n",
    "* We can see that the predicted words don't make much sense but are coherent and follow basic grammer thanks to our language model."
   ]
  },
  {
   "cell_type": "code",
   "execution_count": 47,
   "metadata": {},
   "outputs": [
    {
     "data": {
      "text/plain": [
       "'الغرفة جميلة والأفطار جيد والسرير غير مريح والحمامات مفروشة فقط . الماء'"
      ]
     },
     "execution_count": 47,
     "metadata": {},
     "output_type": "execute_result"
    }
   ],
   "source": [
    "lm_learner.predict('الغرفة جميلة',n_words=10)"
   ]
  },
  {
   "cell_type": "markdown",
   "metadata": {},
   "source": [
    "*We save the language model encoder to use it for classification in the next step.*"
   ]
  },
  {
   "cell_type": "code",
   "execution_count": 48,
   "metadata": {},
   "outputs": [],
   "source": [
    "lm_learner.save_encoder('balanced-stage2-lm-enc')"
   ]
  },
  {
   "cell_type": "markdown",
   "metadata": {},
   "source": [
    "### 3- Creating the classifer:"
   ]
  },
  {
   "cell_type": "markdown",
   "metadata": {},
   "source": [
    "*We now use the classifer databunch we created earlier to build a classifier with our fine-tuned encoder.* "
   ]
  },
  {
   "cell_type": "code",
   "execution_count": 55,
   "metadata": {},
   "outputs": [
    {
     "data": {
      "text/plain": [
       "{'emb_sz': 400,\n",
       " 'n_hid': 1550,\n",
       " 'n_layers': 3,\n",
       " 'pad_token': 1,\n",
       " 'qrnn': True,\n",
       " 'bidir': False,\n",
       " 'output_p': 0.4,\n",
       " 'hidden_p': 0.3,\n",
       " 'input_p': 0.4,\n",
       " 'embed_p': 0.05,\n",
       " 'weight_p': 0.5}"
      ]
     },
     "execution_count": 55,
     "metadata": {},
     "output_type": "execute_result"
    }
   ],
   "source": [
    "qrnn_cls_config = copy.deepcopy(awd_lstm_clas_config)\n",
    "dps = dict(output_p=0.25, hidden_p=0.1, input_p=0.2, embed_p=0.02, weight_p=0.15)\n",
    "qrnn_cls_config.update({'emb_sz':emb_sz, 'n_hid':nh, 'n_layers':nl, 'pad_token':1, 'qrnn':True})\n",
    "qrnn_cls_config"
   ]
  },
  {
   "cell_type": "code",
   "execution_count": 56,
   "metadata": {},
   "outputs": [],
   "source": [
    "clas_learner = text_classifier_learner(reviews_cls_data,AWD_LSTM,config=qrnn_cls_config,model_dir=lm_path,drop_mult=.5)"
   ]
  },
  {
   "cell_type": "code",
   "execution_count": 57,
   "metadata": {},
   "outputs": [],
   "source": [
    "clas_learner.load_encoder('balanced-stage2-lm-enc')"
   ]
  },
  {
   "cell_type": "code",
   "execution_count": 58,
   "metadata": {},
   "outputs": [
    {
     "data": {
      "text/html": [],
      "text/plain": [
       "<IPython.core.display.HTML object>"
      ]
     },
     "metadata": {},
     "output_type": "display_data"
    },
    {
     "name": "stdout",
     "output_type": "stream",
     "text": [
      "LR Finder is complete, type {learner_name}.recorder.plot() to see the graph.\n"
     ]
    }
   ],
   "source": [
    "clas_learner.lr_find(start_lr = slice(10e-7,10e-5),end_lr=slice(0.1,10))"
   ]
  },
  {
   "cell_type": "code",
   "execution_count": 59,
   "metadata": {},
   "outputs": [
    {
     "data": {
      "image/png": "[encoded data removed]",
      "text/plain": [
       "<Figure size 432x288 with 1 Axes>"
      ]
     },
     "metadata": {
      "needs_background": "light"
     },
     "output_type": "display_data"
    }
   ],
   "source": [
    "clas_learner.recorder.plot(skip_end=10)"
   ]
  },
  {
   "cell_type": "markdown",
   "metadata": {},
   "source": [
    "*Again We train our model starting from the last layer then unfreezing the model and training the entire model\n",
    "we use `F-score` as a metric to compare our results to the cited paper.*"
   ]
  },
  {
   "cell_type": "code",
   "execution_count": 60,
   "metadata": {},
   "outputs": [],
   "source": [
    "clas_learner.metrics = [accuracy,FBeta()]"
   ]
  },
  {
   "cell_type": "code",
   "execution_count": 61,
   "metadata": {},
   "outputs": [
    {
     "data": {
      "text/html": [
       "Total time: 00:28 <p><table style='width:450px; margin-bottom:10px'>\n",
       "  <tr>\n",
       "    <th>epoch</th>\n",
       "    <th>train_loss</th>\n",
       "    <th>valid_loss</th>\n",
       "    <th>accuracy</th>\n",
       "    <th>f_beta</th>\n",
       "    <th>time</th>\n",
       "  </tr>\n",
       "  <tr>\n",
       "    <th>0</th>\n",
       "    <th>0.074566</th>\n",
       "    <th>0.002796</th>\n",
       "    <th>0.999054</th>\n",
       "    <th>0.999627</th>\n",
       "    <th>00:28</th>\n",
       "  </tr>\n",
       "</table>\n"
      ],
      "text/plain": [
       "<IPython.core.display.HTML object>"
      ]
     },
     "metadata": {},
     "output_type": "display_data"
    }
   ],
   "source": [
    "clas_learner.fit_one_cycle(1,2e-3)"
   ]
  },
  {
   "cell_type": "code",
   "execution_count": 62,
   "metadata": {},
   "outputs": [],
   "source": [
    "clas_learner.save('balanced-stage1-cls-1epoch')"
   ]
  },
  {
   "cell_type": "code",
   "execution_count": 63,
   "metadata": {},
   "outputs": [],
   "source": [
    "clas_learner.unfreeze()"
   ]
  },
  {
   "cell_type": "code",
   "execution_count": 64,
   "metadata": {},
   "outputs": [
    {
     "data": {
      "text/html": [
       "Total time: 02:28 <p><table style='width:450px; margin-bottom:10px'>\n",
       "  <tr>\n",
       "    <th>epoch</th>\n",
       "    <th>train_loss</th>\n",
       "    <th>valid_loss</th>\n",
       "    <th>accuracy</th>\n",
       "    <th>f_beta</th>\n",
       "    <th>time</th>\n",
       "  </tr>\n",
       "  <tr>\n",
       "    <th>0</th>\n",
       "    <th>0.002978</th>\n",
       "    <th>0.000000</th>\n",
       "    <th>1.000000</th>\n",
       "    <th>1.000000</th>\n",
       "    <th>01:12</th>\n",
       "  </tr>\n",
       "  <tr>\n",
       "    <th>1</th>\n",
       "    <th>0.001776</th>\n",
       "    <th>0.000000</th>\n",
       "    <th>1.000000</th>\n",
       "    <th>1.000000</th>\n",
       "    <th>01:15</th>\n",
       "  </tr>\n",
       "</table>\n"
      ],
      "text/plain": [
       "<IPython.core.display.HTML object>"
      ]
     },
     "metadata": {},
     "output_type": "display_data"
    }
   ],
   "source": [
    "clas_learner.fit_one_cycle(2,2e-3)"
   ]
  },
  {
   "cell_type": "code",
   "execution_count": 65,
   "metadata": {},
   "outputs": [],
   "source": [
    "clas_learner.save('balanced-stage2-cls-2epoch')"
   ]
  },
  {
   "cell_type": "markdown",
   "metadata": {},
   "source": [
    "*We can test our classifier by giving it a review and see the predicted sentiment and its propablity.*"
   ]
  },
  {
   "cell_type": "code",
   "execution_count": 66,
   "metadata": {},
   "outputs": [],
   "source": [
    "text = 'لن اكرر تجربتي مع هذا الفندق'"
   ]
  },
  {
   "cell_type": "code",
   "execution_count": 68,
   "metadata": {},
   "outputs": [
    {
     "data": {
      "text/plain": [
       "(Category neg, tensor(0), tensor([0.9099, 0.0901]))"
      ]
     },
     "execution_count": 68,
     "metadata": {},
     "output_type": "execute_result"
    }
   ],
   "source": [
    "clas_learner.predict(text)"
   ]
  },
  {
   "cell_type": "code",
   "execution_count": 76,
   "metadata": {},
   "outputs": [
    {
     "data": {
      "text/html": [
       "<table border=\"1\" class=\"dataframe\">\n",
       "  <thead>\n",
       "    <tr style=\"text-align: right;\">\n",
       "      <th>text</th>\n",
       "      <th>target</th>\n",
       "      <th>prediction</th>\n",
       "    </tr>\n",
       "  </thead>\n",
       "  <tbody>\n",
       "    <tr>\n",
       "      <td>xxbos “ xxmaj the beach and xxunk are the only good things in this hotel ” . xxmaj the beach and xxunk are the only good things in this hotel . xxmaj the swimming pool is good as well . xxmaj the beach is safe and clean . الشيء الوحيد الجيد في هذا المنتجع هو شاطئ البحر و المنقذين حيث أنهم xxunk xxunk xxmaj first of all there is no</td>\n",
       "      <td>neg</td>\n",
       "      <td>neg</td>\n",
       "    </tr>\n",
       "    <tr>\n",
       "      <td>xxbos “ استمتع .. إنه مناسب ” . * موقع الفندق ممتاز .. على طريق الكورنيش .. على الجانب الآخر من الطريق يوجد جميع أنواع الخدمات التي يحتاجها المسافر من : بقالات ، ومطاعم ، ومغاسل ملابس ، وحلاقين ... إلخ .. كل ما عليك أن تقطع الطريق ( ملاحظة الطريق أمام الفندق - الجانب xxunk مزدحم في أوقات xxunk .. أما القهوة الشعبية ( وهي مطعم شعبي أيضًا )</td>\n",
       "      <td>pos</td>\n",
       "      <td>pos</td>\n",
       "    </tr>\n",
       "    <tr>\n",
       "      <td>xxbos “ الفندق سيئ xxunk الكلمة ” . . اولا : موقع الفندق لا يوجد به شارع ، تقريبا مسافه كيلو ترابي . ٢- الاستقبال جدا جاف ، xxunk خدمه فاشلة . ٣- عندما ذهبنا للغرفه xxunk اغراضنا وعندما رجعنا وجدنا ان بعض من العصائر قد اخذت من الثلاجة ٤- اليوم الثاني عند تنظيف الغرفه ، الموظفين سرقو اغراضنا ( اشترينا اغراض بسيطة مثل xxunk وعصائر وبعض من xxunk xxunk</td>\n",
       "      <td>neg</td>\n",
       "      <td>neg</td>\n",
       "    </tr>\n",
       "    <tr>\n",
       "      <td>xxbos “ تجربة سيئة xxunk غير xxunk ” . تقيمي سيكون للادارة لا للمسافرين xxunk مختلف ، xxunk تم حجز غرفة مزدوجة في فرع الفلاح وفي عصر يوم الحجز يتصل بي الفندق اخ مصري ويقول بأن الغرفة ليست جاهزة xxunk xxunk حجزك للفرع الاخر الحسن بن علي فهو اجدد فرع وسيكون بـ 200 ريال نفس القيمة الغرفة التي تم حجزها وانا وافقت xxunk مني حيث انها ستكون استراحة لاكمال سفر</td>\n",
       "      <td>neg</td>\n",
       "      <td>neg</td>\n",
       "    </tr>\n",
       "    <tr>\n",
       "      <td>xxbos مخيب للأمل . . ١ / الافطار xxunk / كذالك يسون حركة xxunk تدل على عدم ثقه بالنزيل ، عند وصولك للافطار يتم ادخالك مباشرة دون التاكد من رقم الغرفة واستغربت الحركه هذي وبعد جلوسك يتم جرد الافراد xxunk وتقييم الاعمار من قبل الجرسون استغربت من الحركه هذي قلت لمدير المطعم ليش الحركه هذي الفنادق يتم التسجيل عند مدخل البوفيه والعدد قال عشان ما xxunk زحام عند المدخل قلت</td>\n",
       "      <td>neg</td>\n",
       "      <td>neg</td>\n",
       "    </tr>\n",
       "  </tbody>\n",
       "</table>"
      ],
      "text/plain": [
       "<IPython.core.display.HTML object>"
      ]
     },
     "metadata": {},
     "output_type": "display_data"
    }
   ],
   "source": [
    "clas_learner.show_results()"
   ]
  },
  {
   "cell_type": "markdown",
   "metadata": {},
   "source": [
    "*We create a temp databunch containg our held-out test dataset to validate our classifer.*"
   ]
  },
  {
   "cell_type": "code",
   "execution_count": 69,
   "metadata": {},
   "outputs": [
    {
     "data": {
      "text/plain": [
       "(105698, 7)"
      ]
     },
     "execution_count": 69,
     "metadata": {},
     "output_type": "execute_result"
    }
   ],
   "source": [
    "balanced_all_df = pd.concat([balanced_train_df,balanced_test_df])\n",
    "balanced_all_df.shape"
   ]
  },
  {
   "cell_type": "code",
   "execution_count": 70,
   "metadata": {},
   "outputs": [],
   "source": [
    "reviews_cls_test_data = (TextList.from_df(balanced_all_df,cols=['review','rating'],vocab=reviews_lm_data.train_ds.vocab)\n",
    "                   .split_by_idx(balanced_test_df.index)\n",
    "                   .label_from_func(label_for_reviews)\n",
    "                   .databunch(bs=64))"
   ]
  },
  {
   "cell_type": "code",
   "execution_count": 77,
   "metadata": {},
   "outputs": [
    {
     "data": {
      "text/plain": [
       "[5.498965e-07, tensor(1.), tensor(1.)]"
      ]
     },
     "execution_count": 77,
     "metadata": {},
     "output_type": "execute_result"
    }
   ],
   "source": [
    "#Validate returns (error rate , accuracy , F-Score)\n",
    "clas_learner.validate(reviews_cls_test_data.valid_dl)"
   ]
  },
  {
   "cell_type": "code",
   "execution_count": null,
   "metadata": {},
   "outputs": [],
   "source": []
  }
 ],
 "metadata": {
  "kernelspec": {
   "display_name": "Python 3",
   "language": "python",
   "name": "python3"
  },
  "language_info": {
   "codemirror_mode": {
    "name": "ipython",
    "version": 3
   },
   "file_extension": ".py",
   "mimetype": "text/x-python",
   "name": "python",
   "nbconvert_exporter": "python",
   "pygments_lexer": "ipython3",
   "version": "3.7.2"
  }
 },
 "nbformat": 4,
 "nbformat_minor": 2
}
